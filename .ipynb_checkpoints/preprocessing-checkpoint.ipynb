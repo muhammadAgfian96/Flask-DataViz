{
 "cells": [
  {
   "cell_type": "code",
   "execution_count": 1,
   "metadata": {},
   "outputs": [],
   "source": [
    "import pandas as pd\n",
    "import numpy as np\n",
    "import plotly.express as px"
   ]
  },
  {
   "cell_type": "code",
   "execution_count": 2,
   "metadata": {},
   "outputs": [
    {
     "data": {
      "text/html": [
       "<div>\n",
       "<style scoped>\n",
       "    .dataframe tbody tr th:only-of-type {\n",
       "        vertical-align: middle;\n",
       "    }\n",
       "\n",
       "    .dataframe tbody tr th {\n",
       "        vertical-align: top;\n",
       "    }\n",
       "\n",
       "    .dataframe thead th {\n",
       "        text-align: right;\n",
       "    }\n",
       "</style>\n",
       "<table border=\"1\" class=\"dataframe\">\n",
       "  <thead>\n",
       "    <tr style=\"text-align: right;\">\n",
       "      <th></th>\n",
       "      <th>gender</th>\n",
       "      <th>race/ethnicity</th>\n",
       "      <th>parental level of education</th>\n",
       "      <th>lunch</th>\n",
       "      <th>test preparation course</th>\n",
       "      <th>math score</th>\n",
       "      <th>reading score</th>\n",
       "      <th>writing score</th>\n",
       "    </tr>\n",
       "  </thead>\n",
       "  <tbody>\n",
       "    <tr>\n",
       "      <th>0</th>\n",
       "      <td>female</td>\n",
       "      <td>group B</td>\n",
       "      <td>bachelor's degree</td>\n",
       "      <td>standard</td>\n",
       "      <td>none</td>\n",
       "      <td>72</td>\n",
       "      <td>72</td>\n",
       "      <td>74</td>\n",
       "    </tr>\n",
       "    <tr>\n",
       "      <th>1</th>\n",
       "      <td>female</td>\n",
       "      <td>group C</td>\n",
       "      <td>some college</td>\n",
       "      <td>standard</td>\n",
       "      <td>completed</td>\n",
       "      <td>69</td>\n",
       "      <td>90</td>\n",
       "      <td>88</td>\n",
       "    </tr>\n",
       "    <tr>\n",
       "      <th>2</th>\n",
       "      <td>female</td>\n",
       "      <td>group B</td>\n",
       "      <td>master's degree</td>\n",
       "      <td>standard</td>\n",
       "      <td>none</td>\n",
       "      <td>90</td>\n",
       "      <td>95</td>\n",
       "      <td>93</td>\n",
       "    </tr>\n",
       "    <tr>\n",
       "      <th>3</th>\n",
       "      <td>male</td>\n",
       "      <td>group A</td>\n",
       "      <td>associate's degree</td>\n",
       "      <td>free/reduced</td>\n",
       "      <td>none</td>\n",
       "      <td>47</td>\n",
       "      <td>57</td>\n",
       "      <td>44</td>\n",
       "    </tr>\n",
       "    <tr>\n",
       "      <th>4</th>\n",
       "      <td>male</td>\n",
       "      <td>group C</td>\n",
       "      <td>some college</td>\n",
       "      <td>standard</td>\n",
       "      <td>none</td>\n",
       "      <td>76</td>\n",
       "      <td>78</td>\n",
       "      <td>75</td>\n",
       "    </tr>\n",
       "  </tbody>\n",
       "</table>\n",
       "</div>"
      ],
      "text/plain": [
       "   gender race/ethnicity parental level of education         lunch  \\\n",
       "0  female        group B           bachelor's degree      standard   \n",
       "1  female        group C                some college      standard   \n",
       "2  female        group B             master's degree      standard   \n",
       "3    male        group A          associate's degree  free/reduced   \n",
       "4    male        group C                some college      standard   \n",
       "\n",
       "  test preparation course  math score  reading score  writing score  \n",
       "0                    none          72             72             74  \n",
       "1               completed          69             90             88  \n",
       "2                    none          90             95             93  \n",
       "3                    none          47             57             44  \n",
       "4                    none          76             78             75  "
      ]
     },
     "execution_count": 2,
     "metadata": {},
     "output_type": "execute_result"
    }
   ],
   "source": [
    "df = pd.read_csv('StudentsPerformance.csv')\n",
    "df.head()"
   ]
  },
  {
   "cell_type": "code",
   "execution_count": 3,
   "metadata": {},
   "outputs": [
    {
     "name": "stdout",
     "output_type": "stream",
     "text": [
      "<class 'pandas.core.frame.DataFrame'>\n",
      "RangeIndex: 1000 entries, 0 to 999\n",
      "Data columns (total 8 columns):\n",
      "gender                         1000 non-null object\n",
      "race/ethnicity                 1000 non-null object\n",
      "parental level of education    1000 non-null object\n",
      "lunch                          1000 non-null object\n",
      "test preparation course        1000 non-null object\n",
      "math score                     1000 non-null int64\n",
      "reading score                  1000 non-null int64\n",
      "writing score                  1000 non-null int64\n",
      "dtypes: int64(3), object(5)\n",
      "memory usage: 62.6+ KB\n"
     ]
    }
   ],
   "source": [
    "df.info()"
   ]
  },
  {
   "cell_type": "code",
   "execution_count": 4,
   "metadata": {},
   "outputs": [
    {
     "data": {
      "text/html": [
       "<div>\n",
       "<style scoped>\n",
       "    .dataframe tbody tr th:only-of-type {\n",
       "        vertical-align: middle;\n",
       "    }\n",
       "\n",
       "    .dataframe tbody tr th {\n",
       "        vertical-align: top;\n",
       "    }\n",
       "\n",
       "    .dataframe thead th {\n",
       "        text-align: right;\n",
       "    }\n",
       "</style>\n",
       "<table border=\"1\" class=\"dataframe\">\n",
       "  <thead>\n",
       "    <tr style=\"text-align: right;\">\n",
       "      <th></th>\n",
       "      <th>math score</th>\n",
       "      <th>reading score</th>\n",
       "      <th>writing score</th>\n",
       "    </tr>\n",
       "  </thead>\n",
       "  <tbody>\n",
       "    <tr>\n",
       "      <th>count</th>\n",
       "      <td>1000.00000</td>\n",
       "      <td>1000.000000</td>\n",
       "      <td>1000.000000</td>\n",
       "    </tr>\n",
       "    <tr>\n",
       "      <th>mean</th>\n",
       "      <td>66.08900</td>\n",
       "      <td>69.169000</td>\n",
       "      <td>68.054000</td>\n",
       "    </tr>\n",
       "    <tr>\n",
       "      <th>std</th>\n",
       "      <td>15.16308</td>\n",
       "      <td>14.600192</td>\n",
       "      <td>15.195657</td>\n",
       "    </tr>\n",
       "    <tr>\n",
       "      <th>min</th>\n",
       "      <td>0.00000</td>\n",
       "      <td>17.000000</td>\n",
       "      <td>10.000000</td>\n",
       "    </tr>\n",
       "    <tr>\n",
       "      <th>25%</th>\n",
       "      <td>57.00000</td>\n",
       "      <td>59.000000</td>\n",
       "      <td>57.750000</td>\n",
       "    </tr>\n",
       "    <tr>\n",
       "      <th>50%</th>\n",
       "      <td>66.00000</td>\n",
       "      <td>70.000000</td>\n",
       "      <td>69.000000</td>\n",
       "    </tr>\n",
       "    <tr>\n",
       "      <th>75%</th>\n",
       "      <td>77.00000</td>\n",
       "      <td>79.000000</td>\n",
       "      <td>79.000000</td>\n",
       "    </tr>\n",
       "    <tr>\n",
       "      <th>max</th>\n",
       "      <td>100.00000</td>\n",
       "      <td>100.000000</td>\n",
       "      <td>100.000000</td>\n",
       "    </tr>\n",
       "  </tbody>\n",
       "</table>\n",
       "</div>"
      ],
      "text/plain": [
       "       math score  reading score  writing score\n",
       "count  1000.00000    1000.000000    1000.000000\n",
       "mean     66.08900      69.169000      68.054000\n",
       "std      15.16308      14.600192      15.195657\n",
       "min       0.00000      17.000000      10.000000\n",
       "25%      57.00000      59.000000      57.750000\n",
       "50%      66.00000      70.000000      69.000000\n",
       "75%      77.00000      79.000000      79.000000\n",
       "max     100.00000     100.000000     100.000000"
      ]
     },
     "execution_count": 4,
     "metadata": {},
     "output_type": "execute_result"
    }
   ],
   "source": [
    "df.describe()"
   ]
  },
  {
   "cell_type": "code",
   "execution_count": 5,
   "metadata": {},
   "outputs": [
    {
     "name": "stdout",
     "output_type": "stream",
     "text": [
      "=======gender=======\n",
      "female    518\n",
      "male      482\n",
      "Name: gender, dtype: int64\n",
      "==============\n",
      "=======race/ethnicity=======\n",
      "group C    319\n",
      "group D    262\n",
      "group B    190\n",
      "group E    140\n",
      "group A     89\n",
      "Name: race/ethnicity, dtype: int64\n",
      "==============\n",
      "=======parental level of education=======\n",
      "some college          226\n",
      "associate's degree    222\n",
      "high school           196\n",
      "some high school      179\n",
      "bachelor's degree     118\n",
      "master's degree        59\n",
      "Name: parental level of education, dtype: int64\n",
      "==============\n",
      "=======lunch=======\n",
      "standard        645\n",
      "free/reduced    355\n",
      "Name: lunch, dtype: int64\n",
      "==============\n",
      "=======test preparation course=======\n",
      "none         642\n",
      "completed    358\n",
      "Name: test preparation course, dtype: int64\n",
      "==============\n",
      "=======math score=======\n",
      "65    36\n",
      "62    35\n",
      "59    32\n",
      "69    32\n",
      "73    27\n",
      "61    27\n",
      "67    26\n",
      "63    26\n",
      "68    26\n",
      "71    26\n",
      "58    25\n",
      "74    25\n",
      "77    24\n",
      "53    24\n",
      "66    24\n",
      "81    22\n",
      "79    22\n",
      "75    21\n",
      "76    21\n",
      "64    20\n",
      "82    18\n",
      "70    18\n",
      "54    18\n",
      "55    18\n",
      "57    18\n",
      "52    18\n",
      "72    18\n",
      "49    17\n",
      "80    17\n",
      "60    16\n",
      "      ..\n",
      "97     6\n",
      "42     6\n",
      "41     6\n",
      "89     6\n",
      "35     5\n",
      "43     5\n",
      "37     4\n",
      "93     4\n",
      "39     4\n",
      "29     3\n",
      "32     3\n",
      "99     3\n",
      "38     3\n",
      "98     3\n",
      "96     3\n",
      "30     2\n",
      "36     2\n",
      "95     2\n",
      "27     2\n",
      "34     2\n",
      "33     1\n",
      "28     1\n",
      "26     1\n",
      "24     1\n",
      "23     1\n",
      "22     1\n",
      "19     1\n",
      "18     1\n",
      "8      1\n",
      "0      1\n",
      "Name: math score, Length: 81, dtype: int64\n",
      "==============\n",
      "=======reading score=======\n",
      "72     34\n",
      "74     33\n",
      "64     32\n",
      "73     30\n",
      "67     30\n",
      "58     28\n",
      "66     27\n",
      "78     27\n",
      "75     26\n",
      "84     26\n",
      "70     26\n",
      "81     25\n",
      "76     25\n",
      "61     24\n",
      "77     24\n",
      "68     23\n",
      "62     22\n",
      "60     21\n",
      "63     20\n",
      "82     20\n",
      "71     20\n",
      "79     19\n",
      "86     19\n",
      "65     19\n",
      "54     18\n",
      "85     18\n",
      "59     17\n",
      "57     17\n",
      "100    17\n",
      "90     17\n",
      "       ..\n",
      "92     10\n",
      "43      9\n",
      "88      9\n",
      "95      8\n",
      "42      7\n",
      "50      7\n",
      "45      7\n",
      "93      6\n",
      "91      6\n",
      "39      6\n",
      "41      6\n",
      "46      6\n",
      "97      5\n",
      "34      4\n",
      "96      4\n",
      "44      4\n",
      "47      4\n",
      "99      3\n",
      "37      3\n",
      "94      3\n",
      "38      2\n",
      "31      2\n",
      "29      2\n",
      "24      2\n",
      "40      1\n",
      "32      1\n",
      "28      1\n",
      "26      1\n",
      "23      1\n",
      "17      1\n",
      "Name: reading score, Length: 72, dtype: int64\n",
      "==============\n",
      "=======writing score=======\n",
      "74    35\n",
      "70    33\n",
      "68    31\n",
      "73    28\n",
      "62    27\n",
      "80    27\n",
      "72    25\n",
      "54    25\n",
      "76    25\n",
      "78    25\n",
      "67    25\n",
      "66    24\n",
      "77    24\n",
      "82    24\n",
      "69    23\n",
      "65    22\n",
      "64    22\n",
      "75    22\n",
      "61    21\n",
      "52    20\n",
      "81    20\n",
      "60    20\n",
      "57    19\n",
      "79    19\n",
      "58    18\n",
      "71    18\n",
      "53    17\n",
      "51    17\n",
      "84    16\n",
      "63    15\n",
      "      ..\n",
      "92     9\n",
      "93     8\n",
      "95     8\n",
      "44     8\n",
      "41     8\n",
      "48     8\n",
      "42     7\n",
      "45     7\n",
      "94     6\n",
      "38     6\n",
      "96     4\n",
      "99     4\n",
      "36     4\n",
      "34     3\n",
      "40     3\n",
      "27     3\n",
      "97     2\n",
      "32     2\n",
      "33     2\n",
      "98     2\n",
      "37     2\n",
      "39     2\n",
      "35     1\n",
      "30     1\n",
      "28     1\n",
      "23     1\n",
      "22     1\n",
      "19     1\n",
      "15     1\n",
      "10     1\n",
      "Name: writing score, Length: 77, dtype: int64\n",
      "==============\n"
     ]
    }
   ],
   "source": [
    "for item in df.columns:\n",
    "    print('======='+str(item)+'=======')\n",
    "    print(df[item].value_counts())\n",
    "    print('==============')"
   ]
  },
  {
   "cell_type": "code",
   "execution_count": 6,
   "metadata": {},
   "outputs": [
    {
     "data": {
      "text/html": [
       "<div>\n",
       "<style scoped>\n",
       "    .dataframe tbody tr th:only-of-type {\n",
       "        vertical-align: middle;\n",
       "    }\n",
       "\n",
       "    .dataframe tbody tr th {\n",
       "        vertical-align: top;\n",
       "    }\n",
       "\n",
       "    .dataframe thead th {\n",
       "        text-align: right;\n",
       "    }\n",
       "</style>\n",
       "<table border=\"1\" class=\"dataframe\">\n",
       "  <thead>\n",
       "    <tr style=\"text-align: right;\">\n",
       "      <th></th>\n",
       "      <th>math score</th>\n",
       "      <th>reading score</th>\n",
       "      <th>writing score</th>\n",
       "    </tr>\n",
       "    <tr>\n",
       "      <th>test preparation course</th>\n",
       "      <th></th>\n",
       "      <th></th>\n",
       "      <th></th>\n",
       "    </tr>\n",
       "  </thead>\n",
       "  <tbody>\n",
       "    <tr>\n",
       "      <th>completed</th>\n",
       "      <td>69.695531</td>\n",
       "      <td>73.893855</td>\n",
       "      <td>74.418994</td>\n",
       "    </tr>\n",
       "    <tr>\n",
       "      <th>none</th>\n",
       "      <td>64.077882</td>\n",
       "      <td>66.534268</td>\n",
       "      <td>64.504673</td>\n",
       "    </tr>\n",
       "  </tbody>\n",
       "</table>\n",
       "</div>"
      ],
      "text/plain": [
       "                         math score  reading score  writing score\n",
       "test preparation course                                          \n",
       "completed                 69.695531      73.893855      74.418994\n",
       "none                      64.077882      66.534268      64.504673"
      ]
     },
     "execution_count": 6,
     "metadata": {},
     "output_type": "execute_result"
    }
   ],
   "source": [
    "df.groupby('test preparation course').mean()"
   ]
  },
  {
   "cell_type": "code",
   "execution_count": 7,
   "metadata": {},
   "outputs": [],
   "source": [
    "halo = df.sort_values(by='reading score', ascending=False)"
   ]
  },
  {
   "cell_type": "code",
   "execution_count": 8,
   "metadata": {},
   "outputs": [
    {
     "data": {
      "text/plain": [
       "some college          226\n",
       "associate's degree    222\n",
       "high school           196\n",
       "some high school      179\n",
       "bachelor's degree     118\n",
       "master's degree        59\n",
       "Name: parental level of education, dtype: int64"
      ]
     },
     "execution_count": 8,
     "metadata": {},
     "output_type": "execute_result"
    }
   ],
   "source": [
    "df['parental level of education'].value_counts()"
   ]
  },
  {
   "cell_type": "code",
   "execution_count": 11,
   "metadata": {},
   "outputs": [
    {
     "data": {
      "application/vnd.plotly.v1+json": {
       "config": {
        "plotlyServerURL": "https://plot.ly"
       },
       "data": [
        {
         "alignmentgroup": "True",
         "customdata": [
          [
           57,
           44
          ],
          [
           78,
           75
          ],
          [
           43,
           39
          ],
          [
           64,
           67
          ],
          [
           54,
           52
          ],
          [
           52,
           43
          ],
          [
           72,
           70
          ],
          [
           89,
           86
          ],
          [
           42,
           46
          ],
          [
           69,
           63
          ],
          [
           54,
           53
          ],
          [
           71,
           80
          ],
          [
           74,
           72
          ],
          [
           54,
           55
          ],
          [
           70,
           65
          ],
          [
           42,
           38
          ],
          [
           87,
           82
          ],
          [
           81,
           79
          ],
          [
           56,
           57
          ],
          [
           61,
           54
          ],
          [
           65,
           66
          ],
          [
           54,
           57
          ],
          [
           84,
           82
          ],
          [
           55,
           48
          ],
          [
           69,
           68
          ],
          [
           44,
           42
          ],
          [
           78,
           75
          ],
          [
           55,
           49
          ],
          [
           59,
           58
          ],
          [
           74,
           72
          ],
          [
           39,
           34
          ],
          [
           61,
           55
          ],
          [
           64,
           61
          ],
          [
           37,
           37
          ],
          [
           58,
           56
          ],
          [
           55,
           63
          ],
          [
           57,
           56
          ],
          [
           49,
           41
          ],
          [
           41,
           38
          ],
          [
           26,
           22
          ],
          [
           78,
           81
          ],
          [
           45,
           45
          ],
          [
           47,
           54
          ],
          [
           64,
           63
          ],
          [
           39,
           34
          ],
          [
           34,
           36
          ],
          [
           79,
           71
          ],
          [
           45,
           50
          ],
          [
           81,
           82
          ],
          [
           66,
           62
          ],
          [
           67,
           67
          ],
          [
           74,
           74
          ],
          [
           44,
           47
          ],
          [
           86,
           90
          ],
          [
           63,
           64
          ],
          [
           55,
           49
          ],
          [
           53,
           47
          ],
          [
           77,
           74
          ],
          [
           89,
           92
          ],
          [
           57,
           56
          ],
          [
           80,
           73
          ],
          [
           68,
           67
          ],
          [
           77,
           74
          ],
          [
           82,
           74
          ],
          [
           84,
           82
          ],
          [
           37,
           40
          ],
          [
           74,
           70
          ],
          [
           79,
           75
          ],
          [
           55,
           48
          ],
          [
           54,
           41
          ],
          [
           55,
           56
          ],
          [
           61,
           69
          ],
          [
           43,
           47
          ],
          [
           73,
           78
          ],
          [
           84,
           75
          ],
          [
           68,
           66
          ],
          [
           100,
           93
          ],
          [
           67,
           69
          ],
          [
           67,
           68
          ],
          [
           49,
           47
          ],
          [
           67,
           61
          ],
          [
           60,
           60
          ],
          [
           62,
           64
          ],
          [
           78,
           74
          ],
          [
           53,
           52
          ],
          [
           53,
           49
          ],
          [
           51,
           51
          ],
          [
           73,
           74
          ],
          [
           88,
           78
          ],
          [
           68,
           75
          ],
          [
           52,
           49
          ],
          [
           67,
           65
          ],
          [
           76,
           65
          ],
          [
           66,
           68
          ],
          [
           52,
           45
          ],
          [
           83,
           79
          ],
          [
           62,
           62
          ],
          [
           55,
           52
          ],
          [
           69,
           65
          ],
          [
           56,
           51
          ],
          [
           77,
           69
          ],
          [
           41,
           42
          ],
          [
           71,
           78
          ],
          [
           62,
           62
          ],
          [
           80,
           76
          ],
          [
           79,
           79
          ],
          [
           28,
           27
          ],
          [
           51,
           56
          ],
          [
           91,
           81
          ],
          [
           83,
           75
          ],
          [
           77,
           70
          ],
          [
           56,
           56
          ],
          [
           85,
           73
          ],
          [
           80,
           75
          ],
          [
           50,
           54
          ],
          [
           72,
           64
          ],
          [
           64,
           66
          ],
          [
           43,
           42
          ],
          [
           87,
           78
          ],
          [
           82,
           84
          ],
          [
           75,
           77
          ],
          [
           66,
           67
          ],
          [
           52,
           51
          ],
          [
           80,
           80
          ],
          [
           68,
           66
          ],
          [
           51,
           43
          ],
          [
           74,
           69
          ],
          [
           76,
           71
          ],
          [
           76,
           74
          ],
          [
           60,
           53
          ],
          [
           49,
           49
          ],
          [
           80,
           72
          ],
          [
           52,
           52
          ],
          [
           77,
           77
          ],
          [
           79,
           78
          ],
          [
           73,
           68
          ],
          [
           42,
           41
          ],
          [
           63,
           61
          ],
          [
           49,
           42
          ],
          [
           85,
           76
          ],
          [
           78,
           73
          ],
          [
           56,
           57
          ],
          [
           52,
           42
          ],
          [
           48,
           46
          ],
          [
           82,
           82
          ],
          [
           82,
           88
          ],
          [
           75,
           76
          ],
          [
           76,
           77
          ],
          [
           70,
           68
          ],
          [
           73,
           70
          ],
          [
           60,
           57
          ],
          [
           77,
           80
          ],
          [
           62,
           60
          ],
          [
           41,
           43
          ],
          [
           74,
           68
          ],
          [
           46,
           50
          ],
          [
           87,
           75
          ],
          [
           78,
           81
          ],
          [
           54,
           52
          ],
          [
           76,
           64
          ],
          [
           67,
           69
          ],
          [
           87,
           81
          ],
          [
           52,
           44
          ],
          [
           60,
           57
          ],
          [
           61,
           68
          ],
          [
           66,
           65
          ],
          [
           72,
           78
          ],
          [
           71,
           69
          ],
          [
           61,
           62
          ],
          [
           23,
           19
          ],
          [
           75,
           77
          ],
          [
           60,
           61
          ],
          [
           37,
           35
          ],
          [
           56,
           53
          ],
          [
           78,
           81
          ],
          [
           70,
           69
          ],
          [
           51,
           43
          ],
          [
           61,
           52
          ],
          [
           72,
           67
          ],
          [
           73,
           67
          ],
          [
           61,
           57
          ],
          [
           74,
           66
          ],
          [
           74,
           76
          ],
          [
           57,
           52
          ],
          [
           61,
           61
          ],
          [
           62,
           61
          ],
          [
           84,
           78
          ],
          [
           60,
           58
          ],
          [
           58,
           60
          ],
          [
           58,
           53
          ],
          [
           66,
           61
          ],
          [
           77,
           71
          ],
          [
           74,
           72
          ],
          [
           43,
           41
          ],
          [
           64,
           62
          ],
          [
           100,
           95
          ],
          [
           81,
           71
          ],
          [
           70,
           75
          ],
          [
           67,
           59
          ],
          [
           67,
           67
          ],
          [
           54,
           56
          ],
          [
           45,
           41
          ],
          [
           63,
           57
          ],
          [
           59,
           54
          ],
          [
           43,
           43
          ],
          [
           65,
           63
          ],
          [
           84,
           85
          ],
          [
           83,
           78
          ],
          [
           66,
           60
          ],
          [
           67,
           67
          ],
          [
           73,
           69
          ],
          [
           74,
           68
          ],
          [
           73,
           67
          ],
          [
           59,
           62
          ],
          [
           56,
           54
          ],
          [
           39,
           34
          ],
          [
           83,
           86
          ],
          [
           71,
           65
          ],
          [
           59,
           53
          ],
          [
           63,
           54
          ],
          [
           66,
           59
          ],
          [
           56,
           55
          ],
          [
           66,
           66
          ],
          [
           48,
           53
          ],
          [
           68,
           64
          ],
          [
           66,
           73
          ],
          [
           56,
           51
          ],
          [
           88,
           82
          ],
          [
           82,
           73
          ],
          [
           66,
           60
          ],
          [
           81,
           80
          ],
          [
           46,
           42
          ],
          [
           73,
           72
          ],
          [
           58,
           49
          ],
          [
           56,
           47
          ],
          [
           54,
           48
          ],
          [
           65,
           68
          ],
          [
           58,
           55
          ],
          [
           54,
           45
          ],
          [
           58,
           62
          ],
          [
           67,
           65
          ],
          [
           74,
           76
          ],
          [
           62,
           66
          ],
          [
           68,
           72
          ],
          [
           71,
           67
          ],
          [
           71,
           68
          ],
          [
           68,
           61
          ],
          [
           52,
           46
          ],
          [
           74,
           71
          ],
          [
           47,
           56
          ],
          [
           53,
           57
          ],
          [
           82,
           82
          ],
          [
           64,
           66
          ],
          [
           71,
           72
          ],
          [
           61,
           54
          ],
          [
           70,
           66
          ],
          [
           59,
           54
          ],
          [
           78,
           77
          ],
          [
           71,
           73
          ],
          [
           50,
           43
          ],
          [
           49,
           52
          ],
          [
           49,
           52
          ],
          [
           58,
           57
          ],
          [
           59,
           50
          ],
          [
           52,
           49
          ],
          [
           60,
           59
          ],
          [
           61,
           60
          ],
          [
           61,
           58
          ],
          [
           69,
           68
          ],
          [
           60,
           58
          ],
          [
           66,
           71
          ],
          [
           92,
           86
          ],
          [
           69,
           68
          ],
          [
           82,
           80
          ],
          [
           83,
           80
          ],
          [
           67,
           64
          ],
          [
           72,
           69
          ],
          [
           76,
           65
          ],
          [
           90,
           88
          ],
          [
           62,
           64
          ],
          [
           45,
           40
          ],
          [
           67,
           66
          ],
          [
           66,
           62
          ],
          [
           90,
           92
          ],
          [
           51,
           46
          ],
          [
           43,
           45
          ],
          [
           48,
           47
          ],
          [
           68,
           67
          ],
          [
           75,
           70
          ],
          [
           96,
           92
          ],
          [
           55,
           53
          ],
          [
           51,
           52
          ],
          [
           57,
           54
          ],
          [
           62,
           50
          ],
          [
           68,
           64
          ],
          [
           24,
           15
          ],
          [
           54,
           48
          ],
          [
           57,
           51
          ],
          [
           89,
           90
          ],
          [
           72,
           62
          ],
          [
           60,
           63
          ],
          [
           90,
           91
          ],
          [
           78,
           83
          ],
          [
           81,
           84
          ],
          [
           73,
           68
          ],
          [
           63,
           56
          ],
          [
           51,
           52
          ],
          [
           96,
           86
          ],
          [
           97,
           99
          ],
          [
           70,
           63
          ],
          [
           48,
           46
          ],
          [
           57,
           46
          ],
          [
           64,
           70
          ],
          [
           60,
           65
          ],
          [
           84,
           80
          ],
          [
           74,
           64
          ],
          [
           76,
           74
          ],
          [
           52,
           51
          ],
          [
           65,
           60
          ],
          [
           56,
           53
          ],
          [
           67,
           64
          ],
          [
           66,
           61
          ],
          [
           87,
           85
          ],
          [
           77,
           73
          ],
          [
           66,
           63
          ],
          [
           63,
           63
          ],
          [
           74,
           61
          ],
          [
           72,
           77
          ],
          [
           57,
           50
          ],
          [
           75,
           78
          ],
          [
           61,
           60
          ],
          [
           68,
           60
          ],
          [
           55,
           54
          ],
          [
           66,
           68
          ],
          [
           75,
           68
          ],
          [
           78,
           73
          ],
          [
           58,
           44
          ],
          [
           90,
           83
          ],
          [
           66,
           59
          ],
          [
           84,
           87
          ],
          [
           72,
           65
          ],
          [
           34,
           36
          ],
          [
           59,
           52
          ],
          [
           87,
           79
          ],
          [
           84,
           90
          ],
          [
           81,
           84
          ],
          [
           78,
           72
          ],
          [
           73,
           80
          ],
          [
           59,
           59
          ],
          [
           48,
           42
          ],
          [
           43,
           41
          ],
          [
           74,
           71
          ],
          [
           51,
           57
          ],
          [
           39,
           37
          ],
          [
           46,
           43
          ],
          [
           47,
           44
          ],
          [
           57,
           59
          ],
          [
           79,
           84
          ],
          [
           71,
           73
          ],
          [
           60,
           55
          ],
          [
           73,
           72
          ],
          [
           55,
           47
          ],
          [
           79,
           74
          ],
          [
           75,
           71
          ],
          [
           64,
           68
          ],
          [
           84,
           86
          ],
          [
           69,
           68
          ],
          [
           72,
           65
          ],
          [
           77,
           75
          ],
          [
           55,
           53
          ],
          [
           58,
           52
          ],
          [
           68,
           72
          ],
          [
           77,
           77
          ],
          [
           81,
           86
          ],
          [
           63,
           59
          ],
          [
           62,
           60
          ],
          [
           60,
           57
          ],
          [
           48,
           49
          ],
          [
           73,
           74
          ],
          [
           65,
           60
          ],
          [
           85,
           82
          ],
          [
           81,
           79
          ],
          [
           65,
           61
          ],
          [
           74,
           69
          ],
          [
           84,
           77
          ],
          [
           70,
           70
          ],
          [
           60,
           54
          ],
          [
           73,
           68
          ],
          [
           80,
           73
          ],
          [
           81,
           74
          ],
          [
           75,
           69
          ],
          [
           54,
           51
          ],
          [
           31,
           36
          ],
          [
           47,
           49
          ],
          [
           84,
           76
          ],
          [
           86,
           87
          ],
          [
           70,
           76
          ],
          [
           52,
           51
          ],
          [
           67,
           58
          ],
          [
           54,
           53
          ],
          [
           60,
           58
          ],
          [
           50,
           45
          ],
          [
           64,
           57
          ],
          [
           57,
           53
          ],
          [
           58,
           51
          ],
          [
           77,
           76
          ],
          [
           85,
           84
          ],
          [
           85,
           85
          ],
          [
           54,
           50
          ],
          [
           75,
           69
          ],
          [
           67,
           67
          ],
          [
           67,
           61
          ],
          [
           64,
           55
          ],
          [
           68,
           65
          ],
          [
           49,
           46
          ],
          [
           73,
           72
          ],
          [
           42,
           38
          ],
          [
           93,
           91
          ],
          [
           82,
           88
          ],
          [
           53,
           52
          ],
          [
           42,
           41
          ],
          [
           74,
           72
          ],
          [
           51,
           51
          ],
          [
           58,
           47
          ],
          [
           84,
           78
          ],
          [
           90,
           82
          ],
          [
           64,
           66
          ],
          [
           82,
           84
          ],
          [
           61,
           54
          ],
          [
           64,
           66
          ],
          [
           46,
           44
          ],
          [
           72,
           59
          ],
          [
           51,
           48
          ],
          [
           74,
           75
          ],
          [
           29,
           27
          ],
          [
           54,
           63
          ],
          [
           84,
           89
          ],
          [
           77,
           77
          ],
          [
           48,
           51
          ],
          [
           64,
           70
          ],
          [
           42,
           48
          ],
          [
           100,
           100
          ],
          [
           96,
           91
          ],
          [
           70,
           67
          ],
          [
           66,
           66
          ],
          [
           70,
           69
          ],
          [
           64,
           60
          ],
          [
           56,
           52
          ],
          [
           43,
           44
          ],
          [
           74,
           70
          ],
          [
           57,
           62
          ],
          [
           71,
           73
          ],
          [
           75,
           74
          ],
          [
           87,
           90
          ],
          [
           63,
           58
          ],
          [
           57,
           53
          ],
          [
           81,
           85
          ],
          [
           68,
           69
          ],
          [
           66,
           72
          ],
          [
           66,
           64
          ],
          [
           62,
           61
          ],
          [
           82,
           80
          ],
          [
           50,
           52
          ],
          [
           73,
           71
          ],
          [
           52,
           54
          ],
          [
           57,
           62
          ],
          [
           87,
           81
          ],
          [
           81,
           71
          ],
          [
           57,
           58
          ],
          [
           68,
           64
          ],
          [
           63,
           60
          ],
          [
           72,
           69
          ],
          [
           62,
           60
          ],
          [
           65,
           58
          ],
          [
           41,
           48
          ],
          [
           78,
           78
          ],
          [
           85,
           86
          ],
          [
           51,
           54
          ],
          [
           75,
           76
          ],
          [
           81,
           75
          ],
          [
           63,
           62
          ],
          [
           55,
           55
          ]
         ],
         "hoverlabel": {
          "namelength": 0
         },
         "hovertemplate": "lunch=%{x}<br>math score=%{y}<br>reading score=%{customdata[0]}<br>writing score=%{customdata[1]}",
         "legendgroup": "",
         "marker": {
          "color": "#636efa"
         },
         "name": "",
         "offsetgroup": "",
         "orientation": "v",
         "showlegend": false,
         "textposition": "auto",
         "type": "bar",
         "x": [
          "free/reduced",
          "standard",
          "free/reduced",
          "free/reduced",
          "standard",
          "standard",
          "standard",
          "standard",
          "free/reduced",
          "standard",
          "standard",
          "free/reduced",
          "free/reduced",
          "standard",
          "standard",
          "standard",
          "standard",
          "standard",
          "free/reduced",
          "free/reduced",
          "free/reduced",
          "standard",
          "standard",
          "standard",
          "free/reduced",
          "standard",
          "standard",
          "standard",
          "standard",
          "free/reduced",
          "free/reduced",
          "free/reduced",
          "standard",
          "free/reduced",
          "free/reduced",
          "standard",
          "free/reduced",
          "standard",
          "free/reduced",
          "standard",
          "standard",
          "free/reduced",
          "free/reduced",
          "standard",
          "free/reduced",
          "free/reduced",
          "standard",
          "free/reduced",
          "free/reduced",
          "standard",
          "standard",
          "standard",
          "standard",
          "standard",
          "standard",
          "standard",
          "standard",
          "standard",
          "standard",
          "free/reduced",
          "standard",
          "standard",
          "standard",
          "standard",
          "standard",
          "free/reduced",
          "free/reduced",
          "free/reduced",
          "standard",
          "standard",
          "standard",
          "standard",
          "standard",
          "standard",
          "standard",
          "free/reduced",
          "free/reduced",
          "standard",
          "standard",
          "standard",
          "standard",
          "free/reduced",
          "free/reduced",
          "free/reduced",
          "free/reduced",
          "standard",
          "free/reduced",
          "standard",
          "standard",
          "free/reduced",
          "free/reduced",
          "free/reduced",
          "standard",
          "standard",
          "free/reduced",
          "standard",
          "standard",
          "standard",
          "free/reduced",
          "free/reduced",
          "standard",
          "standard",
          "standard",
          "standard",
          "standard",
          "free/reduced",
          "free/reduced",
          "free/reduced",
          "standard",
          "standard",
          "free/reduced",
          "standard",
          "standard",
          "standard",
          "standard",
          "free/reduced",
          "standard",
          "standard",
          "standard",
          "standard",
          "standard",
          "free/reduced",
          "standard",
          "standard",
          "free/reduced",
          "standard",
          "standard",
          "standard",
          "standard",
          "standard",
          "standard",
          "standard",
          "standard",
          "standard",
          "standard",
          "standard",
          "free/reduced",
          "standard",
          "standard",
          "standard",
          "standard",
          "free/reduced",
          "standard",
          "standard",
          "standard",
          "standard",
          "free/reduced",
          "standard",
          "standard",
          "standard",
          "standard",
          "free/reduced",
          "free/reduced",
          "standard",
          "standard",
          "free/reduced",
          "free/reduced",
          "free/reduced",
          "free/reduced",
          "standard",
          "standard",
          "standard",
          "standard",
          "standard",
          "standard",
          "standard",
          "standard",
          "standard",
          "standard",
          "free/reduced",
          "standard",
          "standard",
          "standard",
          "standard",
          "standard",
          "standard",
          "standard",
          "free/reduced",
          "standard",
          "standard",
          "standard",
          "free/reduced",
          "standard",
          "standard",
          "standard",
          "free/reduced",
          "standard",
          "standard",
          "free/reduced",
          "standard",
          "free/reduced",
          "standard",
          "standard",
          "free/reduced",
          "standard",
          "standard",
          "free/reduced",
          "standard",
          "free/reduced",
          "standard",
          "standard",
          "free/reduced",
          "standard",
          "standard",
          "standard",
          "standard",
          "standard",
          "standard",
          "standard",
          "standard",
          "standard",
          "standard",
          "standard",
          "standard",
          "free/reduced",
          "free/reduced",
          "standard",
          "free/reduced",
          "free/reduced",
          "free/reduced",
          "free/reduced",
          "standard",
          "standard",
          "free/reduced",
          "standard",
          "free/reduced",
          "standard",
          "standard",
          "free/reduced",
          "free/reduced",
          "standard",
          "standard",
          "standard",
          "free/reduced",
          "free/reduced",
          "free/reduced",
          "standard",
          "free/reduced",
          "free/reduced",
          "standard",
          "free/reduced",
          "standard",
          "standard",
          "standard",
          "standard",
          "standard",
          "free/reduced",
          "standard",
          "standard",
          "free/reduced",
          "standard",
          "free/reduced",
          "standard",
          "standard",
          "free/reduced",
          "standard",
          "free/reduced",
          "standard",
          "standard",
          "standard",
          "free/reduced",
          "standard",
          "standard",
          "free/reduced",
          "standard",
          "standard",
          "free/reduced",
          "standard",
          "standard",
          "standard",
          "standard",
          "standard",
          "standard",
          "free/reduced",
          "free/reduced",
          "standard",
          "standard",
          "free/reduced",
          "free/reduced",
          "free/reduced",
          "standard",
          "free/reduced",
          "standard",
          "standard",
          "free/reduced",
          "standard",
          "free/reduced",
          "free/reduced",
          "standard",
          "standard",
          "free/reduced",
          "standard",
          "free/reduced",
          "standard",
          "standard",
          "free/reduced",
          "standard",
          "free/reduced",
          "free/reduced",
          "standard",
          "free/reduced",
          "standard",
          "standard",
          "standard",
          "free/reduced",
          "free/reduced",
          "free/reduced",
          "standard",
          "standard",
          "free/reduced",
          "standard",
          "free/reduced",
          "standard",
          "standard",
          "standard",
          "standard",
          "standard",
          "standard",
          "standard",
          "free/reduced",
          "free/reduced",
          "standard",
          "standard",
          "free/reduced",
          "standard",
          "standard",
          "standard",
          "standard",
          "free/reduced",
          "free/reduced",
          "free/reduced",
          "standard",
          "standard",
          "standard",
          "standard",
          "free/reduced",
          "free/reduced",
          "free/reduced",
          "free/reduced",
          "standard",
          "free/reduced",
          "standard",
          "standard",
          "standard",
          "standard",
          "standard",
          "standard",
          "free/reduced",
          "free/reduced",
          "standard",
          "standard",
          "standard",
          "standard",
          "standard",
          "free/reduced",
          "standard",
          "standard",
          "standard",
          "standard",
          "free/reduced",
          "standard",
          "free/reduced",
          "standard",
          "standard",
          "standard",
          "standard",
          "standard",
          "standard",
          "free/reduced",
          "free/reduced",
          "standard",
          "free/reduced",
          "standard",
          "standard",
          "standard",
          "standard",
          "free/reduced",
          "standard",
          "standard",
          "standard",
          "standard",
          "standard",
          "free/reduced",
          "free/reduced",
          "standard",
          "standard",
          "standard",
          "standard",
          "standard",
          "free/reduced",
          "standard",
          "standard",
          "standard",
          "free/reduced",
          "standard",
          "standard",
          "free/reduced",
          "free/reduced",
          "standard",
          "standard",
          "standard",
          "standard",
          "standard",
          "free/reduced",
          "standard",
          "free/reduced",
          "standard",
          "standard",
          "standard",
          "standard",
          "standard",
          "standard",
          "standard",
          "free/reduced",
          "standard",
          "free/reduced",
          "free/reduced",
          "standard",
          "standard",
          "free/reduced",
          "standard",
          "free/reduced",
          "free/reduced",
          "standard",
          "standard",
          "free/reduced",
          "free/reduced",
          "standard",
          "standard",
          "standard",
          "free/reduced",
          "free/reduced",
          "free/reduced",
          "standard",
          "free/reduced",
          "standard",
          "standard",
          "standard",
          "standard",
          "standard",
          "free/reduced",
          "standard",
          "standard",
          "free/reduced",
          "standard",
          "free/reduced",
          "standard",
          "free/reduced",
          "free/reduced",
          "free/reduced",
          "free/reduced",
          "free/reduced",
          "free/reduced",
          "standard",
          "free/reduced",
          "standard",
          "standard",
          "standard",
          "free/reduced",
          "standard",
          "free/reduced",
          "standard",
          "free/reduced",
          "standard",
          "standard",
          "standard",
          "standard",
          "standard",
          "standard",
          "standard",
          "standard",
          "standard",
          "free/reduced",
          "standard",
          "standard",
          "standard",
          "standard",
          "standard",
          "standard",
          "free/reduced",
          "standard",
          "free/reduced"
         ],
         "xaxis": "x",
         "y": [
          47,
          76,
          40,
          64,
          58,
          40,
          78,
          88,
          46,
          66,
          44,
          74,
          73,
          69,
          70,
          40,
          97,
          81,
          57,
          55,
          59,
          65,
          82,
          53,
          77,
          53,
          88,
          52,
          58,
          79,
          39,
          62,
          67,
          45,
          61,
          63,
          61,
          49,
          44,
          30,
          80,
          49,
          50,
          72,
          42,
          27,
          71,
          43,
          78,
          65,
          79,
          68,
          60,
          98,
          66,
          62,
          54,
          84,
          91,
          63,
          83,
          72,
          65,
          82,
          89,
          53,
          87,
          74,
          58,
          51,
          70,
          71,
          57,
          88,
          88,
          73,
          100,
          62,
          77,
          54,
          62,
          60,
          66,
          82,
          49,
          52,
          53,
          72,
          94,
          62,
          45,
          65,
          80,
          62,
          48,
          76,
          77,
          61,
          59,
          55,
          69,
          59,
          74,
          82,
          81,
          80,
          35,
          60,
          87,
          84,
          66,
          61,
          87,
          86,
          57,
          68,
          76,
          46,
          92,
          83,
          80,
          63,
          54,
          84,
          73,
          59,
          75,
          85,
          89,
          68,
          47,
          80,
          54,
          78,
          79,
          76,
          59,
          69,
          58,
          88,
          83,
          73,
          53,
          45,
          81,
          97,
          88,
          77,
          76,
          86,
          63,
          78,
          67,
          46,
          71,
          40,
          90,
          81,
          56,
          80,
          69,
          99,
          51,
          66,
          67,
          71,
          83,
          63,
          61,
          28,
          82,
          71,
          47,
          62,
          90,
          76,
          49,
          58,
          67,
          79,
          62,
          75,
          87,
          66,
          63,
          59,
          85,
          59,
          49,
          69,
          61,
          84,
          74,
          46,
          66,
          87,
          79,
          73,
          73,
          76,
          57,
          48,
          74,
          60,
          53,
          65,
          87,
          84,
          71,
          63,
          84,
          71,
          74,
          68,
          57,
          41,
          86,
          69,
          65,
          68,
          64,
          61,
          73,
          50,
          75,
          75,
          70,
          89,
          79,
          69,
          86,
          47,
          81,
          65,
          37,
          53,
          72,
          53,
          54,
          75,
          72,
          91,
          76,
          80,
          76,
          73,
          68,
          59,
          70,
          61,
          64,
          79,
          68,
          76,
          63,
          68,
          55,
          79,
          76,
          64,
          62,
          71,
          69,
          54,
          53,
          68,
          56,
          62,
          73,
          51,
          85,
          97,
          75,
          79,
          78,
          72,
          79,
          79,
          87,
          77,
          53,
          61,
          73,
          96,
          48,
          48,
          63,
          68,
          71,
          91,
          40,
          61,
          58,
          71,
          68,
          30,
          53,
          60,
          84,
          75,
          69,
          94,
          88,
          95,
          65,
          62,
          58,
          100,
          100,
          69,
          61,
          49,
          67,
          79,
          84,
          71,
          86,
          41,
          70,
          51,
          77,
          69,
          90,
          74,
          73,
          80,
          73,
          81,
          52,
          81,
          63,
          60,
          62,
          62,
          85,
          77,
          53,
          93,
          66,
          87,
          62,
          46,
          66,
          89,
          93,
          81,
          73,
          91,
          55,
          50,
          47,
          81,
          68,
          53,
          55,
          55,
          67,
          92,
          81,
          61,
          80,
          55,
          72,
          69,
          69,
          87,
          71,
          68,
          79,
          58,
          55,
          70,
          69,
          78,
          60,
          76,
          58,
          52,
          75,
          66,
          94,
          91,
          68,
          66,
          89,
          70,
          69,
          67,
          76,
          75,
          90,
          59,
          51,
          45,
          87,
          94,
          61,
          49,
          62,
          68,
          64,
          58,
          73,
          58,
          64,
          74,
          90,
          91,
          64,
          80,
          71,
          82,
          62,
          75,
          52,
          87,
          39,
          97,
          82,
          59,
          61,
          78,
          49,
          59,
          82,
          90,
          80,
          81,
          57,
          63,
          55,
          54,
          44,
          88,
          36,
          67,
          85,
          88,
          57,
          70,
          50,
          100,
          91,
          69,
          72,
          74,
          74,
          64,
          46,
          67,
          62,
          61,
          70,
          98,
          70,
          67,
          85,
          77,
          72,
          81,
          61,
          82,
          49,
          94,
          58,
          72,
          84,
          75,
          72,
          66,
          63,
          78,
          60,
          62,
          55,
          81,
          79,
          57,
          81,
          86,
          63,
          62
         ],
         "yaxis": "y"
        }
       ],
       "layout": {
        "barmode": "relative",
        "height": 400,
        "legend": {
         "tracegroupgap": 0
        },
        "margin": {
         "t": 60
        },
        "template": {
         "data": {
          "bar": [
           {
            "error_x": {
             "color": "#2a3f5f"
            },
            "error_y": {
             "color": "#2a3f5f"
            },
            "marker": {
             "line": {
              "color": "#E5ECF6",
              "width": 0.5
             }
            },
            "type": "bar"
           }
          ],
          "barpolar": [
           {
            "marker": {
             "line": {
              "color": "#E5ECF6",
              "width": 0.5
             }
            },
            "type": "barpolar"
           }
          ],
          "carpet": [
           {
            "aaxis": {
             "endlinecolor": "#2a3f5f",
             "gridcolor": "white",
             "linecolor": "white",
             "minorgridcolor": "white",
             "startlinecolor": "#2a3f5f"
            },
            "baxis": {
             "endlinecolor": "#2a3f5f",
             "gridcolor": "white",
             "linecolor": "white",
             "minorgridcolor": "white",
             "startlinecolor": "#2a3f5f"
            },
            "type": "carpet"
           }
          ],
          "choropleth": [
           {
            "colorbar": {
             "outlinewidth": 0,
             "ticks": ""
            },
            "type": "choropleth"
           }
          ],
          "contour": [
           {
            "colorbar": {
             "outlinewidth": 0,
             "ticks": ""
            },
            "colorscale": [
             [
              0,
              "#0d0887"
             ],
             [
              0.1111111111111111,
              "#46039f"
             ],
             [
              0.2222222222222222,
              "#7201a8"
             ],
             [
              0.3333333333333333,
              "#9c179e"
             ],
             [
              0.4444444444444444,
              "#bd3786"
             ],
             [
              0.5555555555555556,
              "#d8576b"
             ],
             [
              0.6666666666666666,
              "#ed7953"
             ],
             [
              0.7777777777777778,
              "#fb9f3a"
             ],
             [
              0.8888888888888888,
              "#fdca26"
             ],
             [
              1,
              "#f0f921"
             ]
            ],
            "type": "contour"
           }
          ],
          "contourcarpet": [
           {
            "colorbar": {
             "outlinewidth": 0,
             "ticks": ""
            },
            "type": "contourcarpet"
           }
          ],
          "heatmap": [
           {
            "colorbar": {
             "outlinewidth": 0,
             "ticks": ""
            },
            "colorscale": [
             [
              0,
              "#0d0887"
             ],
             [
              0.1111111111111111,
              "#46039f"
             ],
             [
              0.2222222222222222,
              "#7201a8"
             ],
             [
              0.3333333333333333,
              "#9c179e"
             ],
             [
              0.4444444444444444,
              "#bd3786"
             ],
             [
              0.5555555555555556,
              "#d8576b"
             ],
             [
              0.6666666666666666,
              "#ed7953"
             ],
             [
              0.7777777777777778,
              "#fb9f3a"
             ],
             [
              0.8888888888888888,
              "#fdca26"
             ],
             [
              1,
              "#f0f921"
             ]
            ],
            "type": "heatmap"
           }
          ],
          "heatmapgl": [
           {
            "colorbar": {
             "outlinewidth": 0,
             "ticks": ""
            },
            "colorscale": [
             [
              0,
              "#0d0887"
             ],
             [
              0.1111111111111111,
              "#46039f"
             ],
             [
              0.2222222222222222,
              "#7201a8"
             ],
             [
              0.3333333333333333,
              "#9c179e"
             ],
             [
              0.4444444444444444,
              "#bd3786"
             ],
             [
              0.5555555555555556,
              "#d8576b"
             ],
             [
              0.6666666666666666,
              "#ed7953"
             ],
             [
              0.7777777777777778,
              "#fb9f3a"
             ],
             [
              0.8888888888888888,
              "#fdca26"
             ],
             [
              1,
              "#f0f921"
             ]
            ],
            "type": "heatmapgl"
           }
          ],
          "histogram": [
           {
            "marker": {
             "colorbar": {
              "outlinewidth": 0,
              "ticks": ""
             }
            },
            "type": "histogram"
           }
          ],
          "histogram2d": [
           {
            "colorbar": {
             "outlinewidth": 0,
             "ticks": ""
            },
            "colorscale": [
             [
              0,
              "#0d0887"
             ],
             [
              0.1111111111111111,
              "#46039f"
             ],
             [
              0.2222222222222222,
              "#7201a8"
             ],
             [
              0.3333333333333333,
              "#9c179e"
             ],
             [
              0.4444444444444444,
              "#bd3786"
             ],
             [
              0.5555555555555556,
              "#d8576b"
             ],
             [
              0.6666666666666666,
              "#ed7953"
             ],
             [
              0.7777777777777778,
              "#fb9f3a"
             ],
             [
              0.8888888888888888,
              "#fdca26"
             ],
             [
              1,
              "#f0f921"
             ]
            ],
            "type": "histogram2d"
           }
          ],
          "histogram2dcontour": [
           {
            "colorbar": {
             "outlinewidth": 0,
             "ticks": ""
            },
            "colorscale": [
             [
              0,
              "#0d0887"
             ],
             [
              0.1111111111111111,
              "#46039f"
             ],
             [
              0.2222222222222222,
              "#7201a8"
             ],
             [
              0.3333333333333333,
              "#9c179e"
             ],
             [
              0.4444444444444444,
              "#bd3786"
             ],
             [
              0.5555555555555556,
              "#d8576b"
             ],
             [
              0.6666666666666666,
              "#ed7953"
             ],
             [
              0.7777777777777778,
              "#fb9f3a"
             ],
             [
              0.8888888888888888,
              "#fdca26"
             ],
             [
              1,
              "#f0f921"
             ]
            ],
            "type": "histogram2dcontour"
           }
          ],
          "mesh3d": [
           {
            "colorbar": {
             "outlinewidth": 0,
             "ticks": ""
            },
            "type": "mesh3d"
           }
          ],
          "parcoords": [
           {
            "line": {
             "colorbar": {
              "outlinewidth": 0,
              "ticks": ""
             }
            },
            "type": "parcoords"
           }
          ],
          "scatter": [
           {
            "marker": {
             "colorbar": {
              "outlinewidth": 0,
              "ticks": ""
             }
            },
            "type": "scatter"
           }
          ],
          "scatter3d": [
           {
            "line": {
             "colorbar": {
              "outlinewidth": 0,
              "ticks": ""
             }
            },
            "marker": {
             "colorbar": {
              "outlinewidth": 0,
              "ticks": ""
             }
            },
            "type": "scatter3d"
           }
          ],
          "scattercarpet": [
           {
            "marker": {
             "colorbar": {
              "outlinewidth": 0,
              "ticks": ""
             }
            },
            "type": "scattercarpet"
           }
          ],
          "scattergeo": [
           {
            "marker": {
             "colorbar": {
              "outlinewidth": 0,
              "ticks": ""
             }
            },
            "type": "scattergeo"
           }
          ],
          "scattergl": [
           {
            "marker": {
             "colorbar": {
              "outlinewidth": 0,
              "ticks": ""
             }
            },
            "type": "scattergl"
           }
          ],
          "scattermapbox": [
           {
            "marker": {
             "colorbar": {
              "outlinewidth": 0,
              "ticks": ""
             }
            },
            "type": "scattermapbox"
           }
          ],
          "scatterpolar": [
           {
            "marker": {
             "colorbar": {
              "outlinewidth": 0,
              "ticks": ""
             }
            },
            "type": "scatterpolar"
           }
          ],
          "scatterpolargl": [
           {
            "marker": {
             "colorbar": {
              "outlinewidth": 0,
              "ticks": ""
             }
            },
            "type": "scatterpolargl"
           }
          ],
          "scatterternary": [
           {
            "marker": {
             "colorbar": {
              "outlinewidth": 0,
              "ticks": ""
             }
            },
            "type": "scatterternary"
           }
          ],
          "surface": [
           {
            "colorbar": {
             "outlinewidth": 0,
             "ticks": ""
            },
            "colorscale": [
             [
              0,
              "#0d0887"
             ],
             [
              0.1111111111111111,
              "#46039f"
             ],
             [
              0.2222222222222222,
              "#7201a8"
             ],
             [
              0.3333333333333333,
              "#9c179e"
             ],
             [
              0.4444444444444444,
              "#bd3786"
             ],
             [
              0.5555555555555556,
              "#d8576b"
             ],
             [
              0.6666666666666666,
              "#ed7953"
             ],
             [
              0.7777777777777778,
              "#fb9f3a"
             ],
             [
              0.8888888888888888,
              "#fdca26"
             ],
             [
              1,
              "#f0f921"
             ]
            ],
            "type": "surface"
           }
          ],
          "table": [
           {
            "cells": {
             "fill": {
              "color": "#EBF0F8"
             },
             "line": {
              "color": "white"
             }
            },
            "header": {
             "fill": {
              "color": "#C8D4E3"
             },
             "line": {
              "color": "white"
             }
            },
            "type": "table"
           }
          ]
         },
         "layout": {
          "annotationdefaults": {
           "arrowcolor": "#2a3f5f",
           "arrowhead": 0,
           "arrowwidth": 1
          },
          "colorscale": {
           "diverging": [
            [
             0,
             "#8e0152"
            ],
            [
             0.1,
             "#c51b7d"
            ],
            [
             0.2,
             "#de77ae"
            ],
            [
             0.3,
             "#f1b6da"
            ],
            [
             0.4,
             "#fde0ef"
            ],
            [
             0.5,
             "#f7f7f7"
            ],
            [
             0.6,
             "#e6f5d0"
            ],
            [
             0.7,
             "#b8e186"
            ],
            [
             0.8,
             "#7fbc41"
            ],
            [
             0.9,
             "#4d9221"
            ],
            [
             1,
             "#276419"
            ]
           ],
           "sequential": [
            [
             0,
             "#0d0887"
            ],
            [
             0.1111111111111111,
             "#46039f"
            ],
            [
             0.2222222222222222,
             "#7201a8"
            ],
            [
             0.3333333333333333,
             "#9c179e"
            ],
            [
             0.4444444444444444,
             "#bd3786"
            ],
            [
             0.5555555555555556,
             "#d8576b"
            ],
            [
             0.6666666666666666,
             "#ed7953"
            ],
            [
             0.7777777777777778,
             "#fb9f3a"
            ],
            [
             0.8888888888888888,
             "#fdca26"
            ],
            [
             1,
             "#f0f921"
            ]
           ],
           "sequentialminus": [
            [
             0,
             "#0d0887"
            ],
            [
             0.1111111111111111,
             "#46039f"
            ],
            [
             0.2222222222222222,
             "#7201a8"
            ],
            [
             0.3333333333333333,
             "#9c179e"
            ],
            [
             0.4444444444444444,
             "#bd3786"
            ],
            [
             0.5555555555555556,
             "#d8576b"
            ],
            [
             0.6666666666666666,
             "#ed7953"
            ],
            [
             0.7777777777777778,
             "#fb9f3a"
            ],
            [
             0.8888888888888888,
             "#fdca26"
            ],
            [
             1,
             "#f0f921"
            ]
           ]
          },
          "colorway": [
           "#636efa",
           "#EF553B",
           "#00cc96",
           "#ab63fa",
           "#FFA15A",
           "#19d3f3",
           "#FF6692",
           "#B6E880",
           "#FF97FF",
           "#FECB52"
          ],
          "font": {
           "color": "#2a3f5f"
          },
          "geo": {
           "bgcolor": "white",
           "lakecolor": "white",
           "landcolor": "#E5ECF6",
           "showlakes": true,
           "showland": true,
           "subunitcolor": "white"
          },
          "hoverlabel": {
           "align": "left"
          },
          "hovermode": "closest",
          "mapbox": {
           "style": "light"
          },
          "paper_bgcolor": "white",
          "plot_bgcolor": "#E5ECF6",
          "polar": {
           "angularaxis": {
            "gridcolor": "white",
            "linecolor": "white",
            "ticks": ""
           },
           "bgcolor": "#E5ECF6",
           "radialaxis": {
            "gridcolor": "white",
            "linecolor": "white",
            "ticks": ""
           }
          },
          "scene": {
           "xaxis": {
            "backgroundcolor": "#E5ECF6",
            "gridcolor": "white",
            "gridwidth": 2,
            "linecolor": "white",
            "showbackground": true,
            "ticks": "",
            "zerolinecolor": "white"
           },
           "yaxis": {
            "backgroundcolor": "#E5ECF6",
            "gridcolor": "white",
            "gridwidth": 2,
            "linecolor": "white",
            "showbackground": true,
            "ticks": "",
            "zerolinecolor": "white"
           },
           "zaxis": {
            "backgroundcolor": "#E5ECF6",
            "gridcolor": "white",
            "gridwidth": 2,
            "linecolor": "white",
            "showbackground": true,
            "ticks": "",
            "zerolinecolor": "white"
           }
          },
          "shapedefaults": {
           "line": {
            "color": "#2a3f5f"
           }
          },
          "ternary": {
           "aaxis": {
            "gridcolor": "white",
            "linecolor": "white",
            "ticks": ""
           },
           "baxis": {
            "gridcolor": "white",
            "linecolor": "white",
            "ticks": ""
           },
           "bgcolor": "#E5ECF6",
           "caxis": {
            "gridcolor": "white",
            "linecolor": "white",
            "ticks": ""
           }
          },
          "title": {
           "x": 0.05
          },
          "xaxis": {
           "automargin": true,
           "gridcolor": "white",
           "linecolor": "white",
           "ticks": "",
           "zerolinecolor": "white",
           "zerolinewidth": 2
          },
          "yaxis": {
           "automargin": true,
           "gridcolor": "white",
           "linecolor": "white",
           "ticks": "",
           "zerolinecolor": "white",
           "zerolinewidth": 2
          }
         }
        },
        "xaxis": {
         "anchor": "y",
         "domain": [
          0,
          0.98
         ],
         "title": {
          "text": "lunch"
         }
        },
        "yaxis": {
         "anchor": "x",
         "domain": [
          0,
          1
         ],
         "title": {
          "text": "math score"
         }
        }
       }
      },
      "text/html": [
       "<div>\n",
       "        \n",
       "        \n",
       "            <div id=\"4d08c13f-08f8-4dbe-a827-fadb474ced87\" class=\"plotly-graph-div\" style=\"height:400px; width:100%;\"></div>\n",
       "            <script type=\"text/javascript\">\n",
       "                require([\"plotly\"], function(Plotly) {\n",
       "                    window.PLOTLYENV=window.PLOTLYENV || {};\n",
       "                    \n",
       "                if (document.getElementById(\"4d08c13f-08f8-4dbe-a827-fadb474ced87\")) {\n",
       "                    Plotly.newPlot(\n",
       "                        '4d08c13f-08f8-4dbe-a827-fadb474ced87',\n",
       "                        [{\"alignmentgroup\": \"True\", \"customdata\": [[57, 44], [78, 75], [43, 39], [64, 67], [54, 52], [52, 43], [72, 70], [89, 86], [42, 46], [69, 63], [54, 53], [71, 80], [74, 72], [54, 55], [70, 65], [42, 38], [87, 82], [81, 79], [56, 57], [61, 54], [65, 66], [54, 57], [84, 82], [55, 48], [69, 68], [44, 42], [78, 75], [55, 49], [59, 58], [74, 72], [39, 34], [61, 55], [64, 61], [37, 37], [58, 56], [55, 63], [57, 56], [49, 41], [41, 38], [26, 22], [78, 81], [45, 45], [47, 54], [64, 63], [39, 34], [34, 36], [79, 71], [45, 50], [81, 82], [66, 62], [67, 67], [74, 74], [44, 47], [86, 90], [63, 64], [55, 49], [53, 47], [77, 74], [89, 92], [57, 56], [80, 73], [68, 67], [77, 74], [82, 74], [84, 82], [37, 40], [74, 70], [79, 75], [55, 48], [54, 41], [55, 56], [61, 69], [43, 47], [73, 78], [84, 75], [68, 66], [100, 93], [67, 69], [67, 68], [49, 47], [67, 61], [60, 60], [62, 64], [78, 74], [53, 52], [53, 49], [51, 51], [73, 74], [88, 78], [68, 75], [52, 49], [67, 65], [76, 65], [66, 68], [52, 45], [83, 79], [62, 62], [55, 52], [69, 65], [56, 51], [77, 69], [41, 42], [71, 78], [62, 62], [80, 76], [79, 79], [28, 27], [51, 56], [91, 81], [83, 75], [77, 70], [56, 56], [85, 73], [80, 75], [50, 54], [72, 64], [64, 66], [43, 42], [87, 78], [82, 84], [75, 77], [66, 67], [52, 51], [80, 80], [68, 66], [51, 43], [74, 69], [76, 71], [76, 74], [60, 53], [49, 49], [80, 72], [52, 52], [77, 77], [79, 78], [73, 68], [42, 41], [63, 61], [49, 42], [85, 76], [78, 73], [56, 57], [52, 42], [48, 46], [82, 82], [82, 88], [75, 76], [76, 77], [70, 68], [73, 70], [60, 57], [77, 80], [62, 60], [41, 43], [74, 68], [46, 50], [87, 75], [78, 81], [54, 52], [76, 64], [67, 69], [87, 81], [52, 44], [60, 57], [61, 68], [66, 65], [72, 78], [71, 69], [61, 62], [23, 19], [75, 77], [60, 61], [37, 35], [56, 53], [78, 81], [70, 69], [51, 43], [61, 52], [72, 67], [73, 67], [61, 57], [74, 66], [74, 76], [57, 52], [61, 61], [62, 61], [84, 78], [60, 58], [58, 60], [58, 53], [66, 61], [77, 71], [74, 72], [43, 41], [64, 62], [100, 95], [81, 71], [70, 75], [67, 59], [67, 67], [54, 56], [45, 41], [63, 57], [59, 54], [43, 43], [65, 63], [84, 85], [83, 78], [66, 60], [67, 67], [73, 69], [74, 68], [73, 67], [59, 62], [56, 54], [39, 34], [83, 86], [71, 65], [59, 53], [63, 54], [66, 59], [56, 55], [66, 66], [48, 53], [68, 64], [66, 73], [56, 51], [88, 82], [82, 73], [66, 60], [81, 80], [46, 42], [73, 72], [58, 49], [56, 47], [54, 48], [65, 68], [58, 55], [54, 45], [58, 62], [67, 65], [74, 76], [62, 66], [68, 72], [71, 67], [71, 68], [68, 61], [52, 46], [74, 71], [47, 56], [53, 57], [82, 82], [64, 66], [71, 72], [61, 54], [70, 66], [59, 54], [78, 77], [71, 73], [50, 43], [49, 52], [49, 52], [58, 57], [59, 50], [52, 49], [60, 59], [61, 60], [61, 58], [69, 68], [60, 58], [66, 71], [92, 86], [69, 68], [82, 80], [83, 80], [67, 64], [72, 69], [76, 65], [90, 88], [62, 64], [45, 40], [67, 66], [66, 62], [90, 92], [51, 46], [43, 45], [48, 47], [68, 67], [75, 70], [96, 92], [55, 53], [51, 52], [57, 54], [62, 50], [68, 64], [24, 15], [54, 48], [57, 51], [89, 90], [72, 62], [60, 63], [90, 91], [78, 83], [81, 84], [73, 68], [63, 56], [51, 52], [96, 86], [97, 99], [70, 63], [48, 46], [57, 46], [64, 70], [60, 65], [84, 80], [74, 64], [76, 74], [52, 51], [65, 60], [56, 53], [67, 64], [66, 61], [87, 85], [77, 73], [66, 63], [63, 63], [74, 61], [72, 77], [57, 50], [75, 78], [61, 60], [68, 60], [55, 54], [66, 68], [75, 68], [78, 73], [58, 44], [90, 83], [66, 59], [84, 87], [72, 65], [34, 36], [59, 52], [87, 79], [84, 90], [81, 84], [78, 72], [73, 80], [59, 59], [48, 42], [43, 41], [74, 71], [51, 57], [39, 37], [46, 43], [47, 44], [57, 59], [79, 84], [71, 73], [60, 55], [73, 72], [55, 47], [79, 74], [75, 71], [64, 68], [84, 86], [69, 68], [72, 65], [77, 75], [55, 53], [58, 52], [68, 72], [77, 77], [81, 86], [63, 59], [62, 60], [60, 57], [48, 49], [73, 74], [65, 60], [85, 82], [81, 79], [65, 61], [74, 69], [84, 77], [70, 70], [60, 54], [73, 68], [80, 73], [81, 74], [75, 69], [54, 51], [31, 36], [47, 49], [84, 76], [86, 87], [70, 76], [52, 51], [67, 58], [54, 53], [60, 58], [50, 45], [64, 57], [57, 53], [58, 51], [77, 76], [85, 84], [85, 85], [54, 50], [75, 69], [67, 67], [67, 61], [64, 55], [68, 65], [49, 46], [73, 72], [42, 38], [93, 91], [82, 88], [53, 52], [42, 41], [74, 72], [51, 51], [58, 47], [84, 78], [90, 82], [64, 66], [82, 84], [61, 54], [64, 66], [46, 44], [72, 59], [51, 48], [74, 75], [29, 27], [54, 63], [84, 89], [77, 77], [48, 51], [64, 70], [42, 48], [100, 100], [96, 91], [70, 67], [66, 66], [70, 69], [64, 60], [56, 52], [43, 44], [74, 70], [57, 62], [71, 73], [75, 74], [87, 90], [63, 58], [57, 53], [81, 85], [68, 69], [66, 72], [66, 64], [62, 61], [82, 80], [50, 52], [73, 71], [52, 54], [57, 62], [87, 81], [81, 71], [57, 58], [68, 64], [63, 60], [72, 69], [62, 60], [65, 58], [41, 48], [78, 78], [85, 86], [51, 54], [75, 76], [81, 75], [63, 62], [55, 55]], \"hoverlabel\": {\"namelength\": 0}, \"hovertemplate\": \"lunch=%{x}<br>math score=%{y}<br>reading score=%{customdata[0]}<br>writing score=%{customdata[1]}\", \"legendgroup\": \"\", \"marker\": {\"color\": \"#636efa\"}, \"name\": \"\", \"offsetgroup\": \"\", \"orientation\": \"v\", \"showlegend\": false, \"textposition\": \"auto\", \"type\": \"bar\", \"x\": [\"free/reduced\", \"standard\", \"free/reduced\", \"free/reduced\", \"standard\", \"standard\", \"standard\", \"standard\", \"free/reduced\", \"standard\", \"standard\", \"free/reduced\", \"free/reduced\", \"standard\", \"standard\", \"standard\", \"standard\", \"standard\", \"free/reduced\", \"free/reduced\", \"free/reduced\", \"standard\", \"standard\", \"standard\", \"free/reduced\", \"standard\", \"standard\", \"standard\", \"standard\", \"free/reduced\", \"free/reduced\", \"free/reduced\", \"standard\", \"free/reduced\", \"free/reduced\", \"standard\", \"free/reduced\", \"standard\", \"free/reduced\", \"standard\", \"standard\", \"free/reduced\", \"free/reduced\", \"standard\", \"free/reduced\", \"free/reduced\", \"standard\", \"free/reduced\", \"free/reduced\", \"standard\", \"standard\", \"standard\", \"standard\", \"standard\", \"standard\", \"standard\", \"standard\", \"standard\", \"standard\", \"free/reduced\", \"standard\", \"standard\", \"standard\", \"standard\", \"standard\", \"free/reduced\", \"free/reduced\", \"free/reduced\", \"standard\", \"standard\", \"standard\", \"standard\", \"standard\", \"standard\", \"standard\", \"free/reduced\", \"free/reduced\", \"standard\", \"standard\", \"standard\", \"standard\", \"free/reduced\", \"free/reduced\", \"free/reduced\", \"free/reduced\", \"standard\", \"free/reduced\", \"standard\", \"standard\", \"free/reduced\", \"free/reduced\", \"free/reduced\", \"standard\", \"standard\", \"free/reduced\", \"standard\", \"standard\", \"standard\", \"free/reduced\", \"free/reduced\", \"standard\", \"standard\", \"standard\", \"standard\", \"standard\", \"free/reduced\", \"free/reduced\", \"free/reduced\", \"standard\", \"standard\", \"free/reduced\", \"standard\", \"standard\", \"standard\", \"standard\", \"free/reduced\", \"standard\", \"standard\", \"standard\", \"standard\", \"standard\", \"free/reduced\", \"standard\", \"standard\", \"free/reduced\", \"standard\", \"standard\", \"standard\", \"standard\", \"standard\", \"standard\", \"standard\", \"standard\", \"standard\", \"standard\", \"standard\", \"free/reduced\", \"standard\", \"standard\", \"standard\", \"standard\", \"free/reduced\", \"standard\", \"standard\", \"standard\", \"standard\", \"free/reduced\", \"standard\", \"standard\", \"standard\", \"standard\", \"free/reduced\", \"free/reduced\", \"standard\", \"standard\", \"free/reduced\", \"free/reduced\", \"free/reduced\", \"free/reduced\", \"standard\", \"standard\", \"standard\", \"standard\", \"standard\", \"standard\", \"standard\", \"standard\", \"standard\", \"standard\", \"free/reduced\", \"standard\", \"standard\", \"standard\", \"standard\", \"standard\", \"standard\", \"standard\", \"free/reduced\", \"standard\", \"standard\", \"standard\", \"free/reduced\", \"standard\", \"standard\", \"standard\", \"free/reduced\", \"standard\", \"standard\", \"free/reduced\", \"standard\", \"free/reduced\", \"standard\", \"standard\", \"free/reduced\", \"standard\", \"standard\", \"free/reduced\", \"standard\", \"free/reduced\", \"standard\", \"standard\", \"free/reduced\", \"standard\", \"standard\", \"standard\", \"standard\", \"standard\", \"standard\", \"standard\", \"standard\", \"standard\", \"standard\", \"standard\", \"standard\", \"free/reduced\", \"free/reduced\", \"standard\", \"free/reduced\", \"free/reduced\", \"free/reduced\", \"free/reduced\", \"standard\", \"standard\", \"free/reduced\", \"standard\", \"free/reduced\", \"standard\", \"standard\", \"free/reduced\", \"free/reduced\", \"standard\", \"standard\", \"standard\", \"free/reduced\", \"free/reduced\", \"free/reduced\", \"standard\", \"free/reduced\", \"free/reduced\", \"standard\", \"free/reduced\", \"standard\", \"standard\", \"standard\", \"standard\", \"standard\", \"free/reduced\", \"standard\", \"standard\", \"free/reduced\", \"standard\", \"free/reduced\", \"standard\", \"standard\", \"free/reduced\", \"standard\", \"free/reduced\", \"standard\", \"standard\", \"standard\", \"free/reduced\", \"standard\", \"standard\", \"free/reduced\", \"standard\", \"standard\", \"free/reduced\", \"standard\", \"standard\", \"standard\", \"standard\", \"standard\", \"standard\", \"free/reduced\", \"free/reduced\", \"standard\", \"standard\", \"free/reduced\", \"free/reduced\", \"free/reduced\", \"standard\", \"free/reduced\", \"standard\", \"standard\", \"free/reduced\", \"standard\", \"free/reduced\", \"free/reduced\", \"standard\", \"standard\", \"free/reduced\", \"standard\", \"free/reduced\", \"standard\", \"standard\", \"free/reduced\", \"standard\", \"free/reduced\", \"free/reduced\", \"standard\", \"free/reduced\", \"standard\", \"standard\", \"standard\", \"free/reduced\", \"free/reduced\", \"free/reduced\", \"standard\", \"standard\", \"free/reduced\", \"standard\", \"free/reduced\", \"standard\", \"standard\", \"standard\", \"standard\", \"standard\", \"standard\", \"standard\", \"free/reduced\", \"free/reduced\", \"standard\", \"standard\", \"free/reduced\", \"standard\", \"standard\", \"standard\", \"standard\", \"free/reduced\", \"free/reduced\", \"free/reduced\", \"standard\", \"standard\", \"standard\", \"standard\", \"free/reduced\", \"free/reduced\", \"free/reduced\", \"free/reduced\", \"standard\", \"free/reduced\", \"standard\", \"standard\", \"standard\", \"standard\", \"standard\", \"standard\", \"free/reduced\", \"free/reduced\", \"standard\", \"standard\", \"standard\", \"standard\", \"standard\", \"free/reduced\", \"standard\", \"standard\", \"standard\", \"standard\", \"free/reduced\", \"standard\", \"free/reduced\", \"standard\", \"standard\", \"standard\", \"standard\", \"standard\", \"standard\", \"free/reduced\", \"free/reduced\", \"standard\", \"free/reduced\", \"standard\", \"standard\", \"standard\", \"standard\", \"free/reduced\", \"standard\", \"standard\", \"standard\", \"standard\", \"standard\", \"free/reduced\", \"free/reduced\", \"standard\", \"standard\", \"standard\", \"standard\", \"standard\", \"free/reduced\", \"standard\", \"standard\", \"standard\", \"free/reduced\", \"standard\", \"standard\", \"free/reduced\", \"free/reduced\", \"standard\", \"standard\", \"standard\", \"standard\", \"standard\", \"free/reduced\", \"standard\", \"free/reduced\", \"standard\", \"standard\", \"standard\", \"standard\", \"standard\", \"standard\", \"standard\", \"free/reduced\", \"standard\", \"free/reduced\", \"free/reduced\", \"standard\", \"standard\", \"free/reduced\", \"standard\", \"free/reduced\", \"free/reduced\", \"standard\", \"standard\", \"free/reduced\", \"free/reduced\", \"standard\", \"standard\", \"standard\", \"free/reduced\", \"free/reduced\", \"free/reduced\", \"standard\", \"free/reduced\", \"standard\", \"standard\", \"standard\", \"standard\", \"standard\", \"free/reduced\", \"standard\", \"standard\", \"free/reduced\", \"standard\", \"free/reduced\", \"standard\", \"free/reduced\", \"free/reduced\", \"free/reduced\", \"free/reduced\", \"free/reduced\", \"free/reduced\", \"standard\", \"free/reduced\", \"standard\", \"standard\", \"standard\", \"free/reduced\", \"standard\", \"free/reduced\", \"standard\", \"free/reduced\", \"standard\", \"standard\", \"standard\", \"standard\", \"standard\", \"standard\", \"standard\", \"standard\", \"standard\", \"free/reduced\", \"standard\", \"standard\", \"standard\", \"standard\", \"standard\", \"standard\", \"free/reduced\", \"standard\", \"free/reduced\"], \"xaxis\": \"x\", \"y\": [47, 76, 40, 64, 58, 40, 78, 88, 46, 66, 44, 74, 73, 69, 70, 40, 97, 81, 57, 55, 59, 65, 82, 53, 77, 53, 88, 52, 58, 79, 39, 62, 67, 45, 61, 63, 61, 49, 44, 30, 80, 49, 50, 72, 42, 27, 71, 43, 78, 65, 79, 68, 60, 98, 66, 62, 54, 84, 91, 63, 83, 72, 65, 82, 89, 53, 87, 74, 58, 51, 70, 71, 57, 88, 88, 73, 100, 62, 77, 54, 62, 60, 66, 82, 49, 52, 53, 72, 94, 62, 45, 65, 80, 62, 48, 76, 77, 61, 59, 55, 69, 59, 74, 82, 81, 80, 35, 60, 87, 84, 66, 61, 87, 86, 57, 68, 76, 46, 92, 83, 80, 63, 54, 84, 73, 59, 75, 85, 89, 68, 47, 80, 54, 78, 79, 76, 59, 69, 58, 88, 83, 73, 53, 45, 81, 97, 88, 77, 76, 86, 63, 78, 67, 46, 71, 40, 90, 81, 56, 80, 69, 99, 51, 66, 67, 71, 83, 63, 61, 28, 82, 71, 47, 62, 90, 76, 49, 58, 67, 79, 62, 75, 87, 66, 63, 59, 85, 59, 49, 69, 61, 84, 74, 46, 66, 87, 79, 73, 73, 76, 57, 48, 74, 60, 53, 65, 87, 84, 71, 63, 84, 71, 74, 68, 57, 41, 86, 69, 65, 68, 64, 61, 73, 50, 75, 75, 70, 89, 79, 69, 86, 47, 81, 65, 37, 53, 72, 53, 54, 75, 72, 91, 76, 80, 76, 73, 68, 59, 70, 61, 64, 79, 68, 76, 63, 68, 55, 79, 76, 64, 62, 71, 69, 54, 53, 68, 56, 62, 73, 51, 85, 97, 75, 79, 78, 72, 79, 79, 87, 77, 53, 61, 73, 96, 48, 48, 63, 68, 71, 91, 40, 61, 58, 71, 68, 30, 53, 60, 84, 75, 69, 94, 88, 95, 65, 62, 58, 100, 100, 69, 61, 49, 67, 79, 84, 71, 86, 41, 70, 51, 77, 69, 90, 74, 73, 80, 73, 81, 52, 81, 63, 60, 62, 62, 85, 77, 53, 93, 66, 87, 62, 46, 66, 89, 93, 81, 73, 91, 55, 50, 47, 81, 68, 53, 55, 55, 67, 92, 81, 61, 80, 55, 72, 69, 69, 87, 71, 68, 79, 58, 55, 70, 69, 78, 60, 76, 58, 52, 75, 66, 94, 91, 68, 66, 89, 70, 69, 67, 76, 75, 90, 59, 51, 45, 87, 94, 61, 49, 62, 68, 64, 58, 73, 58, 64, 74, 90, 91, 64, 80, 71, 82, 62, 75, 52, 87, 39, 97, 82, 59, 61, 78, 49, 59, 82, 90, 80, 81, 57, 63, 55, 54, 44, 88, 36, 67, 85, 88, 57, 70, 50, 100, 91, 69, 72, 74, 74, 64, 46, 67, 62, 61, 70, 98, 70, 67, 85, 77, 72, 81, 61, 82, 49, 94, 58, 72, 84, 75, 72, 66, 63, 78, 60, 62, 55, 81, 79, 57, 81, 86, 63, 62], \"yaxis\": \"y\"}],\n",
       "                        {\"barmode\": \"relative\", \"height\": 400, \"legend\": {\"tracegroupgap\": 0}, \"margin\": {\"t\": 60}, \"template\": {\"data\": {\"bar\": [{\"error_x\": {\"color\": \"#2a3f5f\"}, \"error_y\": {\"color\": \"#2a3f5f\"}, \"marker\": {\"line\": {\"color\": \"#E5ECF6\", \"width\": 0.5}}, \"type\": \"bar\"}], \"barpolar\": [{\"marker\": {\"line\": {\"color\": \"#E5ECF6\", \"width\": 0.5}}, \"type\": \"barpolar\"}], \"carpet\": [{\"aaxis\": {\"endlinecolor\": \"#2a3f5f\", \"gridcolor\": \"white\", \"linecolor\": \"white\", \"minorgridcolor\": \"white\", \"startlinecolor\": \"#2a3f5f\"}, \"baxis\": {\"endlinecolor\": \"#2a3f5f\", \"gridcolor\": \"white\", \"linecolor\": \"white\", \"minorgridcolor\": \"white\", \"startlinecolor\": \"#2a3f5f\"}, \"type\": \"carpet\"}], \"choropleth\": [{\"colorbar\": {\"outlinewidth\": 0, \"ticks\": \"\"}, \"type\": \"choropleth\"}], \"contour\": [{\"colorbar\": {\"outlinewidth\": 0, \"ticks\": \"\"}, \"colorscale\": [[0.0, \"#0d0887\"], [0.1111111111111111, \"#46039f\"], [0.2222222222222222, \"#7201a8\"], [0.3333333333333333, \"#9c179e\"], [0.4444444444444444, \"#bd3786\"], [0.5555555555555556, \"#d8576b\"], [0.6666666666666666, \"#ed7953\"], [0.7777777777777778, \"#fb9f3a\"], [0.8888888888888888, \"#fdca26\"], [1.0, \"#f0f921\"]], \"type\": \"contour\"}], \"contourcarpet\": [{\"colorbar\": {\"outlinewidth\": 0, \"ticks\": \"\"}, \"type\": \"contourcarpet\"}], \"heatmap\": [{\"colorbar\": {\"outlinewidth\": 0, \"ticks\": \"\"}, \"colorscale\": [[0.0, \"#0d0887\"], [0.1111111111111111, \"#46039f\"], [0.2222222222222222, \"#7201a8\"], [0.3333333333333333, \"#9c179e\"], [0.4444444444444444, \"#bd3786\"], [0.5555555555555556, \"#d8576b\"], [0.6666666666666666, \"#ed7953\"], [0.7777777777777778, \"#fb9f3a\"], [0.8888888888888888, \"#fdca26\"], [1.0, \"#f0f921\"]], \"type\": \"heatmap\"}], \"heatmapgl\": [{\"colorbar\": {\"outlinewidth\": 0, \"ticks\": \"\"}, \"colorscale\": [[0.0, \"#0d0887\"], [0.1111111111111111, \"#46039f\"], [0.2222222222222222, \"#7201a8\"], [0.3333333333333333, \"#9c179e\"], [0.4444444444444444, \"#bd3786\"], [0.5555555555555556, \"#d8576b\"], [0.6666666666666666, \"#ed7953\"], [0.7777777777777778, \"#fb9f3a\"], [0.8888888888888888, \"#fdca26\"], [1.0, \"#f0f921\"]], \"type\": \"heatmapgl\"}], \"histogram\": [{\"marker\": {\"colorbar\": {\"outlinewidth\": 0, \"ticks\": \"\"}}, \"type\": \"histogram\"}], \"histogram2d\": [{\"colorbar\": {\"outlinewidth\": 0, \"ticks\": \"\"}, \"colorscale\": [[0.0, \"#0d0887\"], [0.1111111111111111, \"#46039f\"], [0.2222222222222222, \"#7201a8\"], [0.3333333333333333, \"#9c179e\"], [0.4444444444444444, \"#bd3786\"], [0.5555555555555556, \"#d8576b\"], [0.6666666666666666, \"#ed7953\"], [0.7777777777777778, \"#fb9f3a\"], [0.8888888888888888, \"#fdca26\"], [1.0, \"#f0f921\"]], \"type\": \"histogram2d\"}], \"histogram2dcontour\": [{\"colorbar\": {\"outlinewidth\": 0, \"ticks\": \"\"}, \"colorscale\": [[0.0, \"#0d0887\"], [0.1111111111111111, \"#46039f\"], [0.2222222222222222, \"#7201a8\"], [0.3333333333333333, \"#9c179e\"], [0.4444444444444444, \"#bd3786\"], [0.5555555555555556, \"#d8576b\"], [0.6666666666666666, \"#ed7953\"], [0.7777777777777778, \"#fb9f3a\"], [0.8888888888888888, \"#fdca26\"], [1.0, \"#f0f921\"]], \"type\": \"histogram2dcontour\"}], \"mesh3d\": [{\"colorbar\": {\"outlinewidth\": 0, \"ticks\": \"\"}, \"type\": \"mesh3d\"}], \"parcoords\": [{\"line\": {\"colorbar\": {\"outlinewidth\": 0, \"ticks\": \"\"}}, \"type\": \"parcoords\"}], \"scatter\": [{\"marker\": {\"colorbar\": {\"outlinewidth\": 0, \"ticks\": \"\"}}, \"type\": \"scatter\"}], \"scatter3d\": [{\"line\": {\"colorbar\": {\"outlinewidth\": 0, \"ticks\": \"\"}}, \"marker\": {\"colorbar\": {\"outlinewidth\": 0, \"ticks\": \"\"}}, \"type\": \"scatter3d\"}], \"scattercarpet\": [{\"marker\": {\"colorbar\": {\"outlinewidth\": 0, \"ticks\": \"\"}}, \"type\": \"scattercarpet\"}], \"scattergeo\": [{\"marker\": {\"colorbar\": {\"outlinewidth\": 0, \"ticks\": \"\"}}, \"type\": \"scattergeo\"}], \"scattergl\": [{\"marker\": {\"colorbar\": {\"outlinewidth\": 0, \"ticks\": \"\"}}, \"type\": \"scattergl\"}], \"scattermapbox\": [{\"marker\": {\"colorbar\": {\"outlinewidth\": 0, \"ticks\": \"\"}}, \"type\": \"scattermapbox\"}], \"scatterpolar\": [{\"marker\": {\"colorbar\": {\"outlinewidth\": 0, \"ticks\": \"\"}}, \"type\": \"scatterpolar\"}], \"scatterpolargl\": [{\"marker\": {\"colorbar\": {\"outlinewidth\": 0, \"ticks\": \"\"}}, \"type\": \"scatterpolargl\"}], \"scatterternary\": [{\"marker\": {\"colorbar\": {\"outlinewidth\": 0, \"ticks\": \"\"}}, \"type\": \"scatterternary\"}], \"surface\": [{\"colorbar\": {\"outlinewidth\": 0, \"ticks\": \"\"}, \"colorscale\": [[0.0, \"#0d0887\"], [0.1111111111111111, \"#46039f\"], [0.2222222222222222, \"#7201a8\"], [0.3333333333333333, \"#9c179e\"], [0.4444444444444444, \"#bd3786\"], [0.5555555555555556, \"#d8576b\"], [0.6666666666666666, \"#ed7953\"], [0.7777777777777778, \"#fb9f3a\"], [0.8888888888888888, \"#fdca26\"], [1.0, \"#f0f921\"]], \"type\": \"surface\"}], \"table\": [{\"cells\": {\"fill\": {\"color\": \"#EBF0F8\"}, \"line\": {\"color\": \"white\"}}, \"header\": {\"fill\": {\"color\": \"#C8D4E3\"}, \"line\": {\"color\": \"white\"}}, \"type\": \"table\"}]}, \"layout\": {\"annotationdefaults\": {\"arrowcolor\": \"#2a3f5f\", \"arrowhead\": 0, \"arrowwidth\": 1}, \"colorscale\": {\"diverging\": [[0, \"#8e0152\"], [0.1, \"#c51b7d\"], [0.2, \"#de77ae\"], [0.3, \"#f1b6da\"], [0.4, \"#fde0ef\"], [0.5, \"#f7f7f7\"], [0.6, \"#e6f5d0\"], [0.7, \"#b8e186\"], [0.8, \"#7fbc41\"], [0.9, \"#4d9221\"], [1, \"#276419\"]], \"sequential\": [[0.0, \"#0d0887\"], [0.1111111111111111, \"#46039f\"], [0.2222222222222222, \"#7201a8\"], [0.3333333333333333, \"#9c179e\"], [0.4444444444444444, \"#bd3786\"], [0.5555555555555556, \"#d8576b\"], [0.6666666666666666, \"#ed7953\"], [0.7777777777777778, \"#fb9f3a\"], [0.8888888888888888, \"#fdca26\"], [1.0, \"#f0f921\"]], \"sequentialminus\": [[0.0, \"#0d0887\"], [0.1111111111111111, \"#46039f\"], [0.2222222222222222, \"#7201a8\"], [0.3333333333333333, \"#9c179e\"], [0.4444444444444444, \"#bd3786\"], [0.5555555555555556, \"#d8576b\"], [0.6666666666666666, \"#ed7953\"], [0.7777777777777778, \"#fb9f3a\"], [0.8888888888888888, \"#fdca26\"], [1.0, \"#f0f921\"]]}, \"colorway\": [\"#636efa\", \"#EF553B\", \"#00cc96\", \"#ab63fa\", \"#FFA15A\", \"#19d3f3\", \"#FF6692\", \"#B6E880\", \"#FF97FF\", \"#FECB52\"], \"font\": {\"color\": \"#2a3f5f\"}, \"geo\": {\"bgcolor\": \"white\", \"lakecolor\": \"white\", \"landcolor\": \"#E5ECF6\", \"showlakes\": true, \"showland\": true, \"subunitcolor\": \"white\"}, \"hoverlabel\": {\"align\": \"left\"}, \"hovermode\": \"closest\", \"mapbox\": {\"style\": \"light\"}, \"paper_bgcolor\": \"white\", \"plot_bgcolor\": \"#E5ECF6\", \"polar\": {\"angularaxis\": {\"gridcolor\": \"white\", \"linecolor\": \"white\", \"ticks\": \"\"}, \"bgcolor\": \"#E5ECF6\", \"radialaxis\": {\"gridcolor\": \"white\", \"linecolor\": \"white\", \"ticks\": \"\"}}, \"scene\": {\"xaxis\": {\"backgroundcolor\": \"#E5ECF6\", \"gridcolor\": \"white\", \"gridwidth\": 2, \"linecolor\": \"white\", \"showbackground\": true, \"ticks\": \"\", \"zerolinecolor\": \"white\"}, \"yaxis\": {\"backgroundcolor\": \"#E5ECF6\", \"gridcolor\": \"white\", \"gridwidth\": 2, \"linecolor\": \"white\", \"showbackground\": true, \"ticks\": \"\", \"zerolinecolor\": \"white\"}, \"zaxis\": {\"backgroundcolor\": \"#E5ECF6\", \"gridcolor\": \"white\", \"gridwidth\": 2, \"linecolor\": \"white\", \"showbackground\": true, \"ticks\": \"\", \"zerolinecolor\": \"white\"}}, \"shapedefaults\": {\"line\": {\"color\": \"#2a3f5f\"}}, \"ternary\": {\"aaxis\": {\"gridcolor\": \"white\", \"linecolor\": \"white\", \"ticks\": \"\"}, \"baxis\": {\"gridcolor\": \"white\", \"linecolor\": \"white\", \"ticks\": \"\"}, \"bgcolor\": \"#E5ECF6\", \"caxis\": {\"gridcolor\": \"white\", \"linecolor\": \"white\", \"ticks\": \"\"}}, \"title\": {\"x\": 0.05}, \"xaxis\": {\"automargin\": true, \"gridcolor\": \"white\", \"linecolor\": \"white\", \"ticks\": \"\", \"zerolinecolor\": \"white\", \"zerolinewidth\": 2}, \"yaxis\": {\"automargin\": true, \"gridcolor\": \"white\", \"linecolor\": \"white\", \"ticks\": \"\", \"zerolinecolor\": \"white\", \"zerolinewidth\": 2}}}, \"xaxis\": {\"anchor\": \"y\", \"domain\": [0.0, 0.98], \"title\": {\"text\": \"lunch\"}}, \"yaxis\": {\"anchor\": \"x\", \"domain\": [0.0, 1.0], \"title\": {\"text\": \"math score\"}}},\n",
       "                        {\"responsive\": true}\n",
       "                    ).then(function(){\n",
       "                            \n",
       "var gd = document.getElementById('4d08c13f-08f8-4dbe-a827-fadb474ced87');\n",
       "var x = new MutationObserver(function (mutations, observer) {{\n",
       "        var display = window.getComputedStyle(gd).display;\n",
       "        if (!display || display === 'none') {{\n",
       "            console.log([gd, 'removed!']);\n",
       "            Plotly.purge(gd);\n",
       "            observer.disconnect();\n",
       "        }}\n",
       "}});\n",
       "\n",
       "// Listen for the removal of the full notebook cells\n",
       "var notebookContainer = gd.closest('#notebook-container');\n",
       "if (notebookContainer) {{\n",
       "    x.observe(notebookContainer, {childList: true});\n",
       "}}\n",
       "\n",
       "// Listen for the clearing of the current output cell\n",
       "var outputEl = gd.closest('.output');\n",
       "if (outputEl) {{\n",
       "    x.observe(outputEl, {childList: true});\n",
       "}}\n",
       "\n",
       "                        })\n",
       "                };\n",
       "                });\n",
       "            </script>\n",
       "        </div>"
      ]
     },
     "metadata": {},
     "output_type": "display_data"
    }
   ],
   "source": [
    "# df = px.data.gapminder()\n",
    "\n",
    "df_male = df[df.gender == 'male']\n",
    "fig = px.bar(df_male, x='lunch', y='math score',\n",
    "             hover_data=['reading score', 'writing score'],\n",
    "             labels={'pop':'population of Canada'}, height=400)\n",
    "fig.show()"
   ]
  },
  {
   "cell_type": "code",
   "execution_count": 16,
   "metadata": {},
   "outputs": [],
   "source": [
    "# df_male = df[df.gender == 'male']\n",
    "df_male = df.groupby('gender').mean()\n"
   ]
  },
  {
   "cell_type": "code",
   "execution_count": 20,
   "metadata": {},
   "outputs": [],
   "source": [
    "df_male['gender'] = df_male.index"
   ]
  },
  {
   "cell_type": "code",
   "execution_count": 21,
   "metadata": {},
   "outputs": [
    {
     "data": {
      "text/html": [
       "<div>\n",
       "<style scoped>\n",
       "    .dataframe tbody tr th:only-of-type {\n",
       "        vertical-align: middle;\n",
       "    }\n",
       "\n",
       "    .dataframe tbody tr th {\n",
       "        vertical-align: top;\n",
       "    }\n",
       "\n",
       "    .dataframe thead th {\n",
       "        text-align: right;\n",
       "    }\n",
       "</style>\n",
       "<table border=\"1\" class=\"dataframe\">\n",
       "  <thead>\n",
       "    <tr style=\"text-align: right;\">\n",
       "      <th></th>\n",
       "      <th>math score</th>\n",
       "      <th>reading score</th>\n",
       "      <th>writing score</th>\n",
       "      <th>gender</th>\n",
       "    </tr>\n",
       "    <tr>\n",
       "      <th>gender</th>\n",
       "      <th></th>\n",
       "      <th></th>\n",
       "      <th></th>\n",
       "      <th></th>\n",
       "    </tr>\n",
       "  </thead>\n",
       "  <tbody>\n",
       "    <tr>\n",
       "      <th>female</th>\n",
       "      <td>63.633205</td>\n",
       "      <td>72.608108</td>\n",
       "      <td>72.467181</td>\n",
       "      <td>female</td>\n",
       "    </tr>\n",
       "    <tr>\n",
       "      <th>male</th>\n",
       "      <td>68.728216</td>\n",
       "      <td>65.473029</td>\n",
       "      <td>63.311203</td>\n",
       "      <td>male</td>\n",
       "    </tr>\n",
       "  </tbody>\n",
       "</table>\n",
       "</div>"
      ],
      "text/plain": [
       "        math score  reading score  writing score  gender\n",
       "gender                                                  \n",
       "female   63.633205      72.608108      72.467181  female\n",
       "male     68.728216      65.473029      63.311203    male"
      ]
     },
     "execution_count": 21,
     "metadata": {},
     "output_type": "execute_result"
    }
   ],
   "source": [
    "df_male"
   ]
  },
  {
   "cell_type": "code",
   "execution_count": 24,
   "metadata": {},
   "outputs": [
    {
     "data": {
      "application/vnd.plotly.v1+json": {
       "config": {
        "plotlyServerURL": "https://plot.ly"
       },
       "data": [
        {
         "alignmentgroup": "True",
         "hoverlabel": {
          "namelength": 0
         },
         "hovertemplate": "gender=%{x}<br>writing score=%{y}",
         "legendgroup": "",
         "marker": {
          "color": "#636efa"
         },
         "name": "",
         "offsetgroup": "",
         "orientation": "v",
         "showlegend": false,
         "textposition": "auto",
         "type": "bar",
         "x": [
          "female",
          "male"
         ],
         "xaxis": "x",
         "y": [
          72.46718146718146,
          63.31120331950208
         ],
         "yaxis": "y"
        }
       ],
       "layout": {
        "barmode": "group",
        "height": 400,
        "legend": {
         "tracegroupgap": 0
        },
        "margin": {
         "t": 60
        },
        "template": {
         "data": {
          "bar": [
           {
            "error_x": {
             "color": "#2a3f5f"
            },
            "error_y": {
             "color": "#2a3f5f"
            },
            "marker": {
             "line": {
              "color": "#E5ECF6",
              "width": 0.5
             }
            },
            "type": "bar"
           }
          ],
          "barpolar": [
           {
            "marker": {
             "line": {
              "color": "#E5ECF6",
              "width": 0.5
             }
            },
            "type": "barpolar"
           }
          ],
          "carpet": [
           {
            "aaxis": {
             "endlinecolor": "#2a3f5f",
             "gridcolor": "white",
             "linecolor": "white",
             "minorgridcolor": "white",
             "startlinecolor": "#2a3f5f"
            },
            "baxis": {
             "endlinecolor": "#2a3f5f",
             "gridcolor": "white",
             "linecolor": "white",
             "minorgridcolor": "white",
             "startlinecolor": "#2a3f5f"
            },
            "type": "carpet"
           }
          ],
          "choropleth": [
           {
            "colorbar": {
             "outlinewidth": 0,
             "ticks": ""
            },
            "type": "choropleth"
           }
          ],
          "contour": [
           {
            "colorbar": {
             "outlinewidth": 0,
             "ticks": ""
            },
            "colorscale": [
             [
              0,
              "#0d0887"
             ],
             [
              0.1111111111111111,
              "#46039f"
             ],
             [
              0.2222222222222222,
              "#7201a8"
             ],
             [
              0.3333333333333333,
              "#9c179e"
             ],
             [
              0.4444444444444444,
              "#bd3786"
             ],
             [
              0.5555555555555556,
              "#d8576b"
             ],
             [
              0.6666666666666666,
              "#ed7953"
             ],
             [
              0.7777777777777778,
              "#fb9f3a"
             ],
             [
              0.8888888888888888,
              "#fdca26"
             ],
             [
              1,
              "#f0f921"
             ]
            ],
            "type": "contour"
           }
          ],
          "contourcarpet": [
           {
            "colorbar": {
             "outlinewidth": 0,
             "ticks": ""
            },
            "type": "contourcarpet"
           }
          ],
          "heatmap": [
           {
            "colorbar": {
             "outlinewidth": 0,
             "ticks": ""
            },
            "colorscale": [
             [
              0,
              "#0d0887"
             ],
             [
              0.1111111111111111,
              "#46039f"
             ],
             [
              0.2222222222222222,
              "#7201a8"
             ],
             [
              0.3333333333333333,
              "#9c179e"
             ],
             [
              0.4444444444444444,
              "#bd3786"
             ],
             [
              0.5555555555555556,
              "#d8576b"
             ],
             [
              0.6666666666666666,
              "#ed7953"
             ],
             [
              0.7777777777777778,
              "#fb9f3a"
             ],
             [
              0.8888888888888888,
              "#fdca26"
             ],
             [
              1,
              "#f0f921"
             ]
            ],
            "type": "heatmap"
           }
          ],
          "heatmapgl": [
           {
            "colorbar": {
             "outlinewidth": 0,
             "ticks": ""
            },
            "colorscale": [
             [
              0,
              "#0d0887"
             ],
             [
              0.1111111111111111,
              "#46039f"
             ],
             [
              0.2222222222222222,
              "#7201a8"
             ],
             [
              0.3333333333333333,
              "#9c179e"
             ],
             [
              0.4444444444444444,
              "#bd3786"
             ],
             [
              0.5555555555555556,
              "#d8576b"
             ],
             [
              0.6666666666666666,
              "#ed7953"
             ],
             [
              0.7777777777777778,
              "#fb9f3a"
             ],
             [
              0.8888888888888888,
              "#fdca26"
             ],
             [
              1,
              "#f0f921"
             ]
            ],
            "type": "heatmapgl"
           }
          ],
          "histogram": [
           {
            "marker": {
             "colorbar": {
              "outlinewidth": 0,
              "ticks": ""
             }
            },
            "type": "histogram"
           }
          ],
          "histogram2d": [
           {
            "colorbar": {
             "outlinewidth": 0,
             "ticks": ""
            },
            "colorscale": [
             [
              0,
              "#0d0887"
             ],
             [
              0.1111111111111111,
              "#46039f"
             ],
             [
              0.2222222222222222,
              "#7201a8"
             ],
             [
              0.3333333333333333,
              "#9c179e"
             ],
             [
              0.4444444444444444,
              "#bd3786"
             ],
             [
              0.5555555555555556,
              "#d8576b"
             ],
             [
              0.6666666666666666,
              "#ed7953"
             ],
             [
              0.7777777777777778,
              "#fb9f3a"
             ],
             [
              0.8888888888888888,
              "#fdca26"
             ],
             [
              1,
              "#f0f921"
             ]
            ],
            "type": "histogram2d"
           }
          ],
          "histogram2dcontour": [
           {
            "colorbar": {
             "outlinewidth": 0,
             "ticks": ""
            },
            "colorscale": [
             [
              0,
              "#0d0887"
             ],
             [
              0.1111111111111111,
              "#46039f"
             ],
             [
              0.2222222222222222,
              "#7201a8"
             ],
             [
              0.3333333333333333,
              "#9c179e"
             ],
             [
              0.4444444444444444,
              "#bd3786"
             ],
             [
              0.5555555555555556,
              "#d8576b"
             ],
             [
              0.6666666666666666,
              "#ed7953"
             ],
             [
              0.7777777777777778,
              "#fb9f3a"
             ],
             [
              0.8888888888888888,
              "#fdca26"
             ],
             [
              1,
              "#f0f921"
             ]
            ],
            "type": "histogram2dcontour"
           }
          ],
          "mesh3d": [
           {
            "colorbar": {
             "outlinewidth": 0,
             "ticks": ""
            },
            "type": "mesh3d"
           }
          ],
          "parcoords": [
           {
            "line": {
             "colorbar": {
              "outlinewidth": 0,
              "ticks": ""
             }
            },
            "type": "parcoords"
           }
          ],
          "scatter": [
           {
            "marker": {
             "colorbar": {
              "outlinewidth": 0,
              "ticks": ""
             }
            },
            "type": "scatter"
           }
          ],
          "scatter3d": [
           {
            "line": {
             "colorbar": {
              "outlinewidth": 0,
              "ticks": ""
             }
            },
            "marker": {
             "colorbar": {
              "outlinewidth": 0,
              "ticks": ""
             }
            },
            "type": "scatter3d"
           }
          ],
          "scattercarpet": [
           {
            "marker": {
             "colorbar": {
              "outlinewidth": 0,
              "ticks": ""
             }
            },
            "type": "scattercarpet"
           }
          ],
          "scattergeo": [
           {
            "marker": {
             "colorbar": {
              "outlinewidth": 0,
              "ticks": ""
             }
            },
            "type": "scattergeo"
           }
          ],
          "scattergl": [
           {
            "marker": {
             "colorbar": {
              "outlinewidth": 0,
              "ticks": ""
             }
            },
            "type": "scattergl"
           }
          ],
          "scattermapbox": [
           {
            "marker": {
             "colorbar": {
              "outlinewidth": 0,
              "ticks": ""
             }
            },
            "type": "scattermapbox"
           }
          ],
          "scatterpolar": [
           {
            "marker": {
             "colorbar": {
              "outlinewidth": 0,
              "ticks": ""
             }
            },
            "type": "scatterpolar"
           }
          ],
          "scatterpolargl": [
           {
            "marker": {
             "colorbar": {
              "outlinewidth": 0,
              "ticks": ""
             }
            },
            "type": "scatterpolargl"
           }
          ],
          "scatterternary": [
           {
            "marker": {
             "colorbar": {
              "outlinewidth": 0,
              "ticks": ""
             }
            },
            "type": "scatterternary"
           }
          ],
          "surface": [
           {
            "colorbar": {
             "outlinewidth": 0,
             "ticks": ""
            },
            "colorscale": [
             [
              0,
              "#0d0887"
             ],
             [
              0.1111111111111111,
              "#46039f"
             ],
             [
              0.2222222222222222,
              "#7201a8"
             ],
             [
              0.3333333333333333,
              "#9c179e"
             ],
             [
              0.4444444444444444,
              "#bd3786"
             ],
             [
              0.5555555555555556,
              "#d8576b"
             ],
             [
              0.6666666666666666,
              "#ed7953"
             ],
             [
              0.7777777777777778,
              "#fb9f3a"
             ],
             [
              0.8888888888888888,
              "#fdca26"
             ],
             [
              1,
              "#f0f921"
             ]
            ],
            "type": "surface"
           }
          ],
          "table": [
           {
            "cells": {
             "fill": {
              "color": "#EBF0F8"
             },
             "line": {
              "color": "white"
             }
            },
            "header": {
             "fill": {
              "color": "#C8D4E3"
             },
             "line": {
              "color": "white"
             }
            },
            "type": "table"
           }
          ]
         },
         "layout": {
          "annotationdefaults": {
           "arrowcolor": "#2a3f5f",
           "arrowhead": 0,
           "arrowwidth": 1
          },
          "colorscale": {
           "diverging": [
            [
             0,
             "#8e0152"
            ],
            [
             0.1,
             "#c51b7d"
            ],
            [
             0.2,
             "#de77ae"
            ],
            [
             0.3,
             "#f1b6da"
            ],
            [
             0.4,
             "#fde0ef"
            ],
            [
             0.5,
             "#f7f7f7"
            ],
            [
             0.6,
             "#e6f5d0"
            ],
            [
             0.7,
             "#b8e186"
            ],
            [
             0.8,
             "#7fbc41"
            ],
            [
             0.9,
             "#4d9221"
            ],
            [
             1,
             "#276419"
            ]
           ],
           "sequential": [
            [
             0,
             "#0d0887"
            ],
            [
             0.1111111111111111,
             "#46039f"
            ],
            [
             0.2222222222222222,
             "#7201a8"
            ],
            [
             0.3333333333333333,
             "#9c179e"
            ],
            [
             0.4444444444444444,
             "#bd3786"
            ],
            [
             0.5555555555555556,
             "#d8576b"
            ],
            [
             0.6666666666666666,
             "#ed7953"
            ],
            [
             0.7777777777777778,
             "#fb9f3a"
            ],
            [
             0.8888888888888888,
             "#fdca26"
            ],
            [
             1,
             "#f0f921"
            ]
           ],
           "sequentialminus": [
            [
             0,
             "#0d0887"
            ],
            [
             0.1111111111111111,
             "#46039f"
            ],
            [
             0.2222222222222222,
             "#7201a8"
            ],
            [
             0.3333333333333333,
             "#9c179e"
            ],
            [
             0.4444444444444444,
             "#bd3786"
            ],
            [
             0.5555555555555556,
             "#d8576b"
            ],
            [
             0.6666666666666666,
             "#ed7953"
            ],
            [
             0.7777777777777778,
             "#fb9f3a"
            ],
            [
             0.8888888888888888,
             "#fdca26"
            ],
            [
             1,
             "#f0f921"
            ]
           ]
          },
          "colorway": [
           "#636efa",
           "#EF553B",
           "#00cc96",
           "#ab63fa",
           "#FFA15A",
           "#19d3f3",
           "#FF6692",
           "#B6E880",
           "#FF97FF",
           "#FECB52"
          ],
          "font": {
           "color": "#2a3f5f"
          },
          "geo": {
           "bgcolor": "white",
           "lakecolor": "white",
           "landcolor": "#E5ECF6",
           "showlakes": true,
           "showland": true,
           "subunitcolor": "white"
          },
          "hoverlabel": {
           "align": "left"
          },
          "hovermode": "closest",
          "mapbox": {
           "style": "light"
          },
          "paper_bgcolor": "white",
          "plot_bgcolor": "#E5ECF6",
          "polar": {
           "angularaxis": {
            "gridcolor": "white",
            "linecolor": "white",
            "ticks": ""
           },
           "bgcolor": "#E5ECF6",
           "radialaxis": {
            "gridcolor": "white",
            "linecolor": "white",
            "ticks": ""
           }
          },
          "scene": {
           "xaxis": {
            "backgroundcolor": "#E5ECF6",
            "gridcolor": "white",
            "gridwidth": 2,
            "linecolor": "white",
            "showbackground": true,
            "ticks": "",
            "zerolinecolor": "white"
           },
           "yaxis": {
            "backgroundcolor": "#E5ECF6",
            "gridcolor": "white",
            "gridwidth": 2,
            "linecolor": "white",
            "showbackground": true,
            "ticks": "",
            "zerolinecolor": "white"
           },
           "zaxis": {
            "backgroundcolor": "#E5ECF6",
            "gridcolor": "white",
            "gridwidth": 2,
            "linecolor": "white",
            "showbackground": true,
            "ticks": "",
            "zerolinecolor": "white"
           }
          },
          "shapedefaults": {
           "line": {
            "color": "#2a3f5f"
           }
          },
          "ternary": {
           "aaxis": {
            "gridcolor": "white",
            "linecolor": "white",
            "ticks": ""
           },
           "baxis": {
            "gridcolor": "white",
            "linecolor": "white",
            "ticks": ""
           },
           "bgcolor": "#E5ECF6",
           "caxis": {
            "gridcolor": "white",
            "linecolor": "white",
            "ticks": ""
           }
          },
          "title": {
           "x": 0.05
          },
          "xaxis": {
           "automargin": true,
           "gridcolor": "white",
           "linecolor": "white",
           "ticks": "",
           "zerolinecolor": "white",
           "zerolinewidth": 2
          },
          "yaxis": {
           "automargin": true,
           "gridcolor": "white",
           "linecolor": "white",
           "ticks": "",
           "zerolinecolor": "white",
           "zerolinewidth": 2
          }
         }
        },
        "xaxis": {
         "anchor": "y",
         "domain": [
          0,
          0.98
         ],
         "title": {
          "text": "gender"
         }
        },
        "yaxis": {
         "anchor": "x",
         "domain": [
          0,
          1
         ],
         "title": {
          "text": "writing score"
         }
        }
       }
      },
      "text/html": [
       "<div>\n",
       "        \n",
       "        \n",
       "            <div id=\"8c15cd47-6025-4573-8a5c-49676e8a8985\" class=\"plotly-graph-div\" style=\"height:400px; width:100%;\"></div>\n",
       "            <script type=\"text/javascript\">\n",
       "                require([\"plotly\"], function(Plotly) {\n",
       "                    window.PLOTLYENV=window.PLOTLYENV || {};\n",
       "                    \n",
       "                if (document.getElementById(\"8c15cd47-6025-4573-8a5c-49676e8a8985\")) {\n",
       "                    Plotly.newPlot(\n",
       "                        '8c15cd47-6025-4573-8a5c-49676e8a8985',\n",
       "                        [{\"alignmentgroup\": \"True\", \"hoverlabel\": {\"namelength\": 0}, \"hovertemplate\": \"gender=%{x}<br>writing score=%{y}\", \"legendgroup\": \"\", \"marker\": {\"color\": \"#636efa\"}, \"name\": \"\", \"offsetgroup\": \"\", \"orientation\": \"v\", \"showlegend\": false, \"textposition\": \"auto\", \"type\": \"bar\", \"x\": [\"female\", \"male\"], \"xaxis\": \"x\", \"y\": [72.46718146718146, 63.31120331950208], \"yaxis\": \"y\"}],\n",
       "                        {\"barmode\": \"group\", \"height\": 400, \"legend\": {\"tracegroupgap\": 0}, \"margin\": {\"t\": 60}, \"template\": {\"data\": {\"bar\": [{\"error_x\": {\"color\": \"#2a3f5f\"}, \"error_y\": {\"color\": \"#2a3f5f\"}, \"marker\": {\"line\": {\"color\": \"#E5ECF6\", \"width\": 0.5}}, \"type\": \"bar\"}], \"barpolar\": [{\"marker\": {\"line\": {\"color\": \"#E5ECF6\", \"width\": 0.5}}, \"type\": \"barpolar\"}], \"carpet\": [{\"aaxis\": {\"endlinecolor\": \"#2a3f5f\", \"gridcolor\": \"white\", \"linecolor\": \"white\", \"minorgridcolor\": \"white\", \"startlinecolor\": \"#2a3f5f\"}, \"baxis\": {\"endlinecolor\": \"#2a3f5f\", \"gridcolor\": \"white\", \"linecolor\": \"white\", \"minorgridcolor\": \"white\", \"startlinecolor\": \"#2a3f5f\"}, \"type\": \"carpet\"}], \"choropleth\": [{\"colorbar\": {\"outlinewidth\": 0, \"ticks\": \"\"}, \"type\": \"choropleth\"}], \"contour\": [{\"colorbar\": {\"outlinewidth\": 0, \"ticks\": \"\"}, \"colorscale\": [[0.0, \"#0d0887\"], [0.1111111111111111, \"#46039f\"], [0.2222222222222222, \"#7201a8\"], [0.3333333333333333, \"#9c179e\"], [0.4444444444444444, \"#bd3786\"], [0.5555555555555556, \"#d8576b\"], [0.6666666666666666, \"#ed7953\"], [0.7777777777777778, \"#fb9f3a\"], [0.8888888888888888, \"#fdca26\"], [1.0, \"#f0f921\"]], \"type\": \"contour\"}], \"contourcarpet\": [{\"colorbar\": {\"outlinewidth\": 0, \"ticks\": \"\"}, \"type\": \"contourcarpet\"}], \"heatmap\": [{\"colorbar\": {\"outlinewidth\": 0, \"ticks\": \"\"}, \"colorscale\": [[0.0, \"#0d0887\"], [0.1111111111111111, \"#46039f\"], [0.2222222222222222, \"#7201a8\"], [0.3333333333333333, \"#9c179e\"], [0.4444444444444444, \"#bd3786\"], [0.5555555555555556, \"#d8576b\"], [0.6666666666666666, \"#ed7953\"], [0.7777777777777778, \"#fb9f3a\"], [0.8888888888888888, \"#fdca26\"], [1.0, \"#f0f921\"]], \"type\": \"heatmap\"}], \"heatmapgl\": [{\"colorbar\": {\"outlinewidth\": 0, \"ticks\": \"\"}, \"colorscale\": [[0.0, \"#0d0887\"], [0.1111111111111111, \"#46039f\"], [0.2222222222222222, \"#7201a8\"], [0.3333333333333333, \"#9c179e\"], [0.4444444444444444, \"#bd3786\"], [0.5555555555555556, \"#d8576b\"], [0.6666666666666666, \"#ed7953\"], [0.7777777777777778, \"#fb9f3a\"], [0.8888888888888888, \"#fdca26\"], [1.0, \"#f0f921\"]], \"type\": \"heatmapgl\"}], \"histogram\": [{\"marker\": {\"colorbar\": {\"outlinewidth\": 0, \"ticks\": \"\"}}, \"type\": \"histogram\"}], \"histogram2d\": [{\"colorbar\": {\"outlinewidth\": 0, \"ticks\": \"\"}, \"colorscale\": [[0.0, \"#0d0887\"], [0.1111111111111111, \"#46039f\"], [0.2222222222222222, \"#7201a8\"], [0.3333333333333333, \"#9c179e\"], [0.4444444444444444, \"#bd3786\"], [0.5555555555555556, \"#d8576b\"], [0.6666666666666666, \"#ed7953\"], [0.7777777777777778, \"#fb9f3a\"], [0.8888888888888888, \"#fdca26\"], [1.0, \"#f0f921\"]], \"type\": \"histogram2d\"}], \"histogram2dcontour\": [{\"colorbar\": {\"outlinewidth\": 0, \"ticks\": \"\"}, \"colorscale\": [[0.0, \"#0d0887\"], [0.1111111111111111, \"#46039f\"], [0.2222222222222222, \"#7201a8\"], [0.3333333333333333, \"#9c179e\"], [0.4444444444444444, \"#bd3786\"], [0.5555555555555556, \"#d8576b\"], [0.6666666666666666, \"#ed7953\"], [0.7777777777777778, \"#fb9f3a\"], [0.8888888888888888, \"#fdca26\"], [1.0, \"#f0f921\"]], \"type\": \"histogram2dcontour\"}], \"mesh3d\": [{\"colorbar\": {\"outlinewidth\": 0, \"ticks\": \"\"}, \"type\": \"mesh3d\"}], \"parcoords\": [{\"line\": {\"colorbar\": {\"outlinewidth\": 0, \"ticks\": \"\"}}, \"type\": \"parcoords\"}], \"scatter\": [{\"marker\": {\"colorbar\": {\"outlinewidth\": 0, \"ticks\": \"\"}}, \"type\": \"scatter\"}], \"scatter3d\": [{\"line\": {\"colorbar\": {\"outlinewidth\": 0, \"ticks\": \"\"}}, \"marker\": {\"colorbar\": {\"outlinewidth\": 0, \"ticks\": \"\"}}, \"type\": \"scatter3d\"}], \"scattercarpet\": [{\"marker\": {\"colorbar\": {\"outlinewidth\": 0, \"ticks\": \"\"}}, \"type\": \"scattercarpet\"}], \"scattergeo\": [{\"marker\": {\"colorbar\": {\"outlinewidth\": 0, \"ticks\": \"\"}}, \"type\": \"scattergeo\"}], \"scattergl\": [{\"marker\": {\"colorbar\": {\"outlinewidth\": 0, \"ticks\": \"\"}}, \"type\": \"scattergl\"}], \"scattermapbox\": [{\"marker\": {\"colorbar\": {\"outlinewidth\": 0, \"ticks\": \"\"}}, \"type\": \"scattermapbox\"}], \"scatterpolar\": [{\"marker\": {\"colorbar\": {\"outlinewidth\": 0, \"ticks\": \"\"}}, \"type\": \"scatterpolar\"}], \"scatterpolargl\": [{\"marker\": {\"colorbar\": {\"outlinewidth\": 0, \"ticks\": \"\"}}, \"type\": \"scatterpolargl\"}], \"scatterternary\": [{\"marker\": {\"colorbar\": {\"outlinewidth\": 0, \"ticks\": \"\"}}, \"type\": \"scatterternary\"}], \"surface\": [{\"colorbar\": {\"outlinewidth\": 0, \"ticks\": \"\"}, \"colorscale\": [[0.0, \"#0d0887\"], [0.1111111111111111, \"#46039f\"], [0.2222222222222222, \"#7201a8\"], [0.3333333333333333, \"#9c179e\"], [0.4444444444444444, \"#bd3786\"], [0.5555555555555556, \"#d8576b\"], [0.6666666666666666, \"#ed7953\"], [0.7777777777777778, \"#fb9f3a\"], [0.8888888888888888, \"#fdca26\"], [1.0, \"#f0f921\"]], \"type\": \"surface\"}], \"table\": [{\"cells\": {\"fill\": {\"color\": \"#EBF0F8\"}, \"line\": {\"color\": \"white\"}}, \"header\": {\"fill\": {\"color\": \"#C8D4E3\"}, \"line\": {\"color\": \"white\"}}, \"type\": \"table\"}]}, \"layout\": {\"annotationdefaults\": {\"arrowcolor\": \"#2a3f5f\", \"arrowhead\": 0, \"arrowwidth\": 1}, \"colorscale\": {\"diverging\": [[0, \"#8e0152\"], [0.1, \"#c51b7d\"], [0.2, \"#de77ae\"], [0.3, \"#f1b6da\"], [0.4, \"#fde0ef\"], [0.5, \"#f7f7f7\"], [0.6, \"#e6f5d0\"], [0.7, \"#b8e186\"], [0.8, \"#7fbc41\"], [0.9, \"#4d9221\"], [1, \"#276419\"]], \"sequential\": [[0.0, \"#0d0887\"], [0.1111111111111111, \"#46039f\"], [0.2222222222222222, \"#7201a8\"], [0.3333333333333333, \"#9c179e\"], [0.4444444444444444, \"#bd3786\"], [0.5555555555555556, \"#d8576b\"], [0.6666666666666666, \"#ed7953\"], [0.7777777777777778, \"#fb9f3a\"], [0.8888888888888888, \"#fdca26\"], [1.0, \"#f0f921\"]], \"sequentialminus\": [[0.0, \"#0d0887\"], [0.1111111111111111, \"#46039f\"], [0.2222222222222222, \"#7201a8\"], [0.3333333333333333, \"#9c179e\"], [0.4444444444444444, \"#bd3786\"], [0.5555555555555556, \"#d8576b\"], [0.6666666666666666, \"#ed7953\"], [0.7777777777777778, \"#fb9f3a\"], [0.8888888888888888, \"#fdca26\"], [1.0, \"#f0f921\"]]}, \"colorway\": [\"#636efa\", \"#EF553B\", \"#00cc96\", \"#ab63fa\", \"#FFA15A\", \"#19d3f3\", \"#FF6692\", \"#B6E880\", \"#FF97FF\", \"#FECB52\"], \"font\": {\"color\": \"#2a3f5f\"}, \"geo\": {\"bgcolor\": \"white\", \"lakecolor\": \"white\", \"landcolor\": \"#E5ECF6\", \"showlakes\": true, \"showland\": true, \"subunitcolor\": \"white\"}, \"hoverlabel\": {\"align\": \"left\"}, \"hovermode\": \"closest\", \"mapbox\": {\"style\": \"light\"}, \"paper_bgcolor\": \"white\", \"plot_bgcolor\": \"#E5ECF6\", \"polar\": {\"angularaxis\": {\"gridcolor\": \"white\", \"linecolor\": \"white\", \"ticks\": \"\"}, \"bgcolor\": \"#E5ECF6\", \"radialaxis\": {\"gridcolor\": \"white\", \"linecolor\": \"white\", \"ticks\": \"\"}}, \"scene\": {\"xaxis\": {\"backgroundcolor\": \"#E5ECF6\", \"gridcolor\": \"white\", \"gridwidth\": 2, \"linecolor\": \"white\", \"showbackground\": true, \"ticks\": \"\", \"zerolinecolor\": \"white\"}, \"yaxis\": {\"backgroundcolor\": \"#E5ECF6\", \"gridcolor\": \"white\", \"gridwidth\": 2, \"linecolor\": \"white\", \"showbackground\": true, \"ticks\": \"\", \"zerolinecolor\": \"white\"}, \"zaxis\": {\"backgroundcolor\": \"#E5ECF6\", \"gridcolor\": \"white\", \"gridwidth\": 2, \"linecolor\": \"white\", \"showbackground\": true, \"ticks\": \"\", \"zerolinecolor\": \"white\"}}, \"shapedefaults\": {\"line\": {\"color\": \"#2a3f5f\"}}, \"ternary\": {\"aaxis\": {\"gridcolor\": \"white\", \"linecolor\": \"white\", \"ticks\": \"\"}, \"baxis\": {\"gridcolor\": \"white\", \"linecolor\": \"white\", \"ticks\": \"\"}, \"bgcolor\": \"#E5ECF6\", \"caxis\": {\"gridcolor\": \"white\", \"linecolor\": \"white\", \"ticks\": \"\"}}, \"title\": {\"x\": 0.05}, \"xaxis\": {\"automargin\": true, \"gridcolor\": \"white\", \"linecolor\": \"white\", \"ticks\": \"\", \"zerolinecolor\": \"white\", \"zerolinewidth\": 2}, \"yaxis\": {\"automargin\": true, \"gridcolor\": \"white\", \"linecolor\": \"white\", \"ticks\": \"\", \"zerolinecolor\": \"white\", \"zerolinewidth\": 2}}}, \"xaxis\": {\"anchor\": \"y\", \"domain\": [0.0, 0.98], \"title\": {\"text\": \"gender\"}}, \"yaxis\": {\"anchor\": \"x\", \"domain\": [0.0, 1.0], \"title\": {\"text\": \"writing score\"}}},\n",
       "                        {\"responsive\": true}\n",
       "                    ).then(function(){\n",
       "                            \n",
       "var gd = document.getElementById('8c15cd47-6025-4573-8a5c-49676e8a8985');\n",
       "var x = new MutationObserver(function (mutations, observer) {{\n",
       "        var display = window.getComputedStyle(gd).display;\n",
       "        if (!display || display === 'none') {{\n",
       "            console.log([gd, 'removed!']);\n",
       "            Plotly.purge(gd);\n",
       "            observer.disconnect();\n",
       "        }}\n",
       "}});\n",
       "\n",
       "// Listen for the removal of the full notebook cells\n",
       "var notebookContainer = gd.closest('#notebook-container');\n",
       "if (notebookContainer) {{\n",
       "    x.observe(notebookContainer, {childList: true});\n",
       "}}\n",
       "\n",
       "// Listen for the clearing of the current output cell\n",
       "var outputEl = gd.closest('.output');\n",
       "if (outputEl) {{\n",
       "    x.observe(outputEl, {childList: true});\n",
       "}}\n",
       "\n",
       "                        })\n",
       "                };\n",
       "                });\n",
       "            </script>\n",
       "        </div>"
      ]
     },
     "metadata": {},
     "output_type": "display_data"
    }
   ],
   "source": [
    "fig = px.bar(df_male, x=\"gender\", y=\"math score\", barmode='group',\n",
    "             height=400)\n",
    "\n",
    "fig = px.bar(df_male, x=\"gender\", y=\"writing score\", barmode='group',\n",
    "             height=600, width=250)\n",
    "fig.show()"
   ]
  },
  {
   "cell_type": "code",
   "execution_count": null,
   "metadata": {},
   "outputs": [],
   "source": []
  }
 ],
 "metadata": {
  "kernelspec": {
   "display_name": "Python 3",
   "language": "python",
   "name": "python3"
  },
  "language_info": {
   "codemirror_mode": {
    "name": "ipython",
    "version": 3
   },
   "file_extension": ".py",
   "mimetype": "text/x-python",
   "name": "python",
   "nbconvert_exporter": "python",
   "pygments_lexer": "ipython3",
   "version": "3.7.1"
  }
 },
 "nbformat": 4,
 "nbformat_minor": 2
}
